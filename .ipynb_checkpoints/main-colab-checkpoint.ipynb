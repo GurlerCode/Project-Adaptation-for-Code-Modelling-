{
  "cells": [
    {
      "cell_type": "code",
      "execution_count": 1,
      "id": "74f5255e-bd0a-4470-b2d6-40193636e17e",
      "metadata": {
        "id": "74f5255e-bd0a-4470-b2d6-40193636e17e"
      },
      "outputs": [],
      "source": [
        "import os\n",
        "import glob\n",
        "\n",
        "from transformers import AutoModelForMaskedLM, AutoTokenizer\n",
        "from transformers import AutoTokenizer\n",
        "from transformers import AdamW, get_scheduler\n",
        "from transformers.modeling_outputs import MaskedLMOutput\n",
        "\n",
        "from torch.utils.data import Dataset\n",
        "from torch.utils.data import DataLoader\n",
        "\n",
        "from sklearn.model_selection import train_test_split\n",
        "\n",
        "import torch"
      ]
    },
    {
      "cell_type": "code",
      "execution_count": 2,
      "id": "0677d8e0-1d71-422d-9ead-5d1d7be4c0c8",
      "metadata": {
        "id": "0677d8e0-1d71-422d-9ead-5d1d7be4c0c8"
      },
      "outputs": [],
      "source": [
        "cd = os.getcwd()"
      ]
    },
    {
      "cell_type": "code",
      "execution_count": 3,
      "id": "cd455fe0-2da6-4ea1-9b57-ba9d1ce6f416",
      "metadata": {
        "colab": {
          "base_uri": "https://localhost:8080/",
          "height": 36
        },
        "id": "cd455fe0-2da6-4ea1-9b57-ba9d1ce6f416",
        "outputId": "40782c50-2df6-45ca-e0a8-4de56d74661f"
      },
      "outputs": [
        {
          "output_type": "execute_result",
          "data": {
            "text/plain": [
              "'/content'"
            ],
            "application/vnd.google.colaboratory.intrinsic+json": {
              "type": "string"
            }
          },
          "metadata": {},
          "execution_count": 3
        }
      ],
      "source": [
        "cd"
      ]
    },
    {
      "cell_type": "code",
      "execution_count": 4,
      "id": "1ad0e8f8-ecb3-4c4a-8658-eff4502ef5e9",
      "metadata": {
        "colab": {
          "base_uri": "https://localhost:8080/"
        },
        "id": "1ad0e8f8-ecb3-4c4a-8658-eff4502ef5e9",
        "outputId": "91d720f8-526c-41dc-f0b8-ff18f74b7bcc"
      },
      "outputs": [
        {
          "output_type": "stream",
          "name": "stdout",
          "text": [
            "Cloning into 'ktor'...\n",
            "remote: Enumerating objects: 159402, done.\u001b[K\n",
            "remote: Counting objects: 100% (5323/5323), done.\u001b[K\n",
            "remote: Compressing objects: 100% (1915/1915), done.\u001b[K\n",
            "remote: Total 159402 (delta 1714), reused 4706 (delta 1402), pack-reused 154079\u001b[K\n",
            "Receiving objects: 100% (159402/159402), 30.93 MiB | 11.68 MiB/s, done.\n",
            "Resolving deltas: 100% (64050/64050), done.\n"
          ]
        }
      ],
      "source": [
        "!git clone https://github.com/ktorio/ktor.git"
      ]
    },
    {
      "cell_type": "code",
      "execution_count": 5,
      "id": "0f4b7f29-415f-4246-9ddd-5c454fb2b6cc",
      "metadata": {
        "id": "0f4b7f29-415f-4246-9ddd-5c454fb2b6cc"
      },
      "outputs": [],
      "source": [
        "def find_kotlin_files(root_dir):\n",
        "    kotlin_files = []\n",
        "    for root, dirs, files in os.walk(root_dir):\n",
        "        for file in files:\n",
        "            if file.endswith('.kt'):\n",
        "                kotlin_files.append(os.path.join(root, file))\n",
        "    return kotlin_files"
      ]
    },
    {
      "cell_type": "code",
      "execution_count": 6,
      "id": "eca2abe6-e1a3-43cd-9d49-9fd9382649b5",
      "metadata": {
        "id": "eca2abe6-e1a3-43cd-9d49-9fd9382649b5"
      },
      "outputs": [],
      "source": [
        "def read_kotlin_files(kotlin_files):\n",
        "    kotlin_code = []\n",
        "    for file in kotlin_files:\n",
        "        with open(file, 'r', encoding='utf-8') as f:\n",
        "            code = f.read()\n",
        "            kotlin_code.append(code)\n",
        "    return kotlin_code"
      ]
    },
    {
      "cell_type": "code",
      "execution_count": 7,
      "id": "db4ae2a9-2fb0-4ffb-b5bf-ae8d51733c2e",
      "metadata": {
        "id": "db4ae2a9-2fb0-4ffb-b5bf-ae8d51733c2e"
      },
      "outputs": [],
      "source": [
        "# Define the root directory of the cloned Ktor repository\n",
        "ktor_repo_dir = cd + '/ktor'"
      ]
    },
    {
      "cell_type": "code",
      "execution_count": 8,
      "id": "969bddf8-267b-4768-9791-434e5354cb1d",
      "metadata": {
        "colab": {
          "base_uri": "https://localhost:8080/",
          "height": 36
        },
        "id": "969bddf8-267b-4768-9791-434e5354cb1d",
        "outputId": "f7d0616d-a715-49a2-891d-b821d894a418"
      },
      "outputs": [
        {
          "output_type": "execute_result",
          "data": {
            "text/plain": [
              "'/content/ktor'"
            ],
            "application/vnd.google.colaboratory.intrinsic+json": {
              "type": "string"
            }
          },
          "metadata": {},
          "execution_count": 8
        }
      ],
      "source": [
        "ktor_repo_dir"
      ]
    },
    {
      "cell_type": "code",
      "execution_count": 9,
      "id": "b24d08c4-9460-49d2-94be-8a1d6409c304",
      "metadata": {
        "id": "b24d08c4-9460-49d2-94be-8a1d6409c304"
      },
      "outputs": [],
      "source": [
        "# Find Kotlin files in the Ktor project directory\n",
        "kotlin_files = find_kotlin_files(ktor_repo_dir)"
      ]
    },
    {
      "cell_type": "code",
      "execution_count": 10,
      "id": "f19eb3b2-cb3b-4214-bd8e-283d7ceebd55",
      "metadata": {
        "colab": {
          "base_uri": "https://localhost:8080/"
        },
        "id": "f19eb3b2-cb3b-4214-bd8e-283d7ceebd55",
        "outputId": "ef93d4f9-eb56-4c52-b7eb-b03f2fae0984"
      },
      "outputs": [
        {
          "output_type": "execute_result",
          "data": {
            "text/plain": [
              "1974"
            ]
          },
          "metadata": {},
          "execution_count": 10
        }
      ],
      "source": [
        "len(kotlin_files)"
      ]
    },
    {
      "cell_type": "code",
      "execution_count": 11,
      "id": "60d0f5b9-374f-405b-a6e9-bcd469d29426",
      "metadata": {
        "id": "60d0f5b9-374f-405b-a6e9-bcd469d29426"
      },
      "outputs": [],
      "source": [
        "# Read the contents of Kotlin files\n",
        "kotlin_code = read_kotlin_files(kotlin_files)"
      ]
    },
    {
      "cell_type": "code",
      "execution_count": 12,
      "id": "22d7b7bf-818e-4f34-bea4-34e1999adbcb",
      "metadata": {
        "colab": {
          "base_uri": "https://localhost:8080/"
        },
        "id": "22d7b7bf-818e-4f34-bea4-34e1999adbcb",
        "outputId": "0f555183-e587-46ba-9cf4-65e41f40c301"
      },
      "outputs": [
        {
          "output_type": "stream",
          "name": "stdout",
          "text": [
            "Number of Kotlin files found: 1974\n",
            "\n",
            "Sample Kotlin code:\n",
            "/*\n",
            "* Copyright 2014-2021 JetBrains s.r.o and contributors. Use of this source code is governed by the Apache 2.0 license.\n",
            "*/\n",
            "package io.ktor.serialization.test\n",
            "\n",
            "import io.ktor.http.*\n",
            "import io.ktor.server.application.*\n",
            "import io.ktor.server.plugins.contentnegotiation.*\n",
            "import io.ktor.server.request.*\n",
            "import io.ktor.server.response.*\n",
            "import io.ktor.server.routing.*\n",
            "import io.ktor.server.testing.*\n",
            "import kotlinx.coroutines.*\n",
            "import kotlinx.coroutines.flow.*\n",
            "import kotlinx.serialization.*\n",
            "import ja\n"
          ]
        }
      ],
      "source": [
        "# Print the number of Kotlin files found\n",
        "print(\"Number of Kotlin files found:\", len(kotlin_files))\n",
        "\n",
        "# Print the first 500 characters of the first Kotlin file as a sample\n",
        "print(\"\\nSample Kotlin code:\")\n",
        "print(kotlin_code[0][:500])"
      ]
    },
    {
      "cell_type": "code",
      "execution_count": 13,
      "id": "025647fb-50c5-494f-8357-2f5310a6efb1",
      "metadata": {
        "id": "025647fb-50c5-494f-8357-2f5310a6efb1"
      },
      "outputs": [],
      "source": [
        "# %pip install transformers torch"
      ]
    },
    {
      "cell_type": "code",
      "execution_count": 14,
      "id": "7b0f4f85-5f0b-4e8a-b108-6cca172f8940",
      "metadata": {
        "id": "7b0f4f85-5f0b-4e8a-b108-6cca172f8940"
      },
      "outputs": [],
      "source": [
        "# Define the model name or path for CodeBERT\n",
        "model_name = \"microsoft/codebert-base\""
      ]
    },
    {
      "cell_type": "code",
      "execution_count": 15,
      "id": "f9db926e-58b7-4959-b347-d389a31a1c99",
      "metadata": {
        "colab": {
          "base_uri": "https://localhost:8080/",
          "height": 246,
          "referenced_widgets": [
            "8446b2c5e322410b9e145176b026dee1",
            "f23e8711b9e94b9eb92432e1b9414d2c",
            "1685e7019da041f28eafa60eef2d4078",
            "af1668c6933b484da21ebadf082e2f46",
            "dfbd5b8aa83542a9a48b7d20c9fe4112",
            "f0b6c3cc55c647f293779423752f15a3",
            "13fe44509bf34522a616c92865707dbf",
            "cc4d2e5df20a40939b24e450f7bc8d14",
            "c9a141e34ef5424eac17ec66d271c278",
            "3b2203555ea848f9a58a850d47b9f130",
            "86330be0f6274acd8ad52bcccbecdd61",
            "2985d86422cb467dac71d59112fb780c",
            "f0c38725c80a45e9872e709fb94a4233",
            "6dbc64411d594395b5413cd2f50b485d",
            "5e9f72fbcc1a4d2ea092d1d945bbad0d",
            "371ef0ddb970486c93dbf63f0711242f",
            "f600c31be7fa4a22b5952d7d860117a8",
            "33e7edad66754948a602d20503d0a248",
            "ee2f34cdf3f3402c8af5d5591d5ffa21",
            "7f5d71f0e4464e26b387f659d42380d1",
            "a6f15433e0344d7ebdab37c8b2522747",
            "bfc8eddfe2c44d879542366dd96683e1"
          ]
        },
        "id": "f9db926e-58b7-4959-b347-d389a31a1c99",
        "outputId": "37cc7a77-5e6b-42fc-9f83-1e1f7eb50baf"
      },
      "outputs": [
        {
          "output_type": "stream",
          "name": "stderr",
          "text": [
            "/usr/local/lib/python3.10/dist-packages/huggingface_hub/utils/_token.py:88: UserWarning: \n",
            "The secret `HF_TOKEN` does not exist in your Colab secrets.\n",
            "To authenticate with the Hugging Face Hub, create a token in your settings tab (https://huggingface.co/settings/tokens), set it as secret in your Google Colab and restart your session.\n",
            "You will be able to reuse this secret in all of your notebooks.\n",
            "Please note that authentication is recommended but still optional to access public models or datasets.\n",
            "  warnings.warn(\n"
          ]
        },
        {
          "output_type": "display_data",
          "data": {
            "text/plain": [
              "config.json:   0%|          | 0.00/498 [00:00<?, ?B/s]"
            ],
            "application/vnd.jupyter.widget-view+json": {
              "version_major": 2,
              "version_minor": 0,
              "model_id": "8446b2c5e322410b9e145176b026dee1"
            }
          },
          "metadata": {}
        },
        {
          "output_type": "display_data",
          "data": {
            "text/plain": [
              "pytorch_model.bin:   0%|          | 0.00/499M [00:00<?, ?B/s]"
            ],
            "application/vnd.jupyter.widget-view+json": {
              "version_major": 2,
              "version_minor": 0,
              "model_id": "2985d86422cb467dac71d59112fb780c"
            }
          },
          "metadata": {}
        },
        {
          "output_type": "stream",
          "name": "stderr",
          "text": [
            "Some weights of RobertaForMaskedLM were not initialized from the model checkpoint at microsoft/codebert-base and are newly initialized: ['lm_head.bias', 'lm_head.decoder.bias', 'lm_head.dense.bias', 'lm_head.dense.weight', 'lm_head.layer_norm.bias', 'lm_head.layer_norm.weight']\n",
            "You should probably TRAIN this model on a down-stream task to be able to use it for predictions and inference.\n"
          ]
        }
      ],
      "source": [
        "# Load the pre-trained CodeBERT model\n",
        "model = AutoModelForMaskedLM.from_pretrained(model_name)"
      ]
    },
    {
      "cell_type": "code",
      "execution_count": 16,
      "id": "c4fd64f4-b5c9-467d-a85a-4e90226adeae",
      "metadata": {
        "colab": {
          "base_uri": "https://localhost:8080/",
          "height": 145,
          "referenced_widgets": [
            "e323eb5f7b714a92b7cc4881e8af91d9",
            "f9f5b72ad8da425095c621c5bc9ea583",
            "2882f2de8e054b22800df20a8bb515a2",
            "6c5a7c32168c4c0b8b2f306053696664",
            "baf08c7bd9714a8a8a937014aed0c6a5",
            "bd263531303749f981ead3095681c3d1",
            "a3c24f2a53404084bf3366f9cb560ad2",
            "40e003d5d8d047a293b53080b2066d97",
            "e3789101fb7747458687df7d0c88e7e6",
            "7630dba6406047289f69b6d29b88975d",
            "6c182081931d4594bbd559889940cd7f",
            "8d96c771cb1e44948c3c85bf1f45dbde",
            "c11a9e4d435f46068934b3ce96f0ead7",
            "1aaf710a71e44ad380306bb175321b6d",
            "f33c93f3d44b45f38f05463ea04565a9",
            "54574df0c2a545138f2768f4ce4dd3a3",
            "4a48d3cf1fd7425c9d2367786d60e477",
            "02f64f872dcc4cb58fdd1d676ba6086f",
            "f8b6a03cf43e41178a06c46430879d99",
            "3bf295e1040e42bbb32796be47d3245f",
            "b49893726ce54846a690af362a20a3c2",
            "53a15f30202847019993fe2bb897a250",
            "7ed8003b4e344cdcb7dd4aa189c90f90",
            "00876605ce1a4be8a6bc7fd762bc4449",
            "3b0ab98fd0b94b7e9cc142018258907c",
            "18bd37ec6a144465bfce6b19168e50a5",
            "a2c32d4c0a224fe1b87d5dfb4fcccd01",
            "ea30c5f7c5d64cd483db231b5dc4f78d",
            "61f41c2831a6429e9c442aaa06945a67",
            "7e4d9f958a4e4637b8f9bb0576e0d103",
            "72a5b12d16704244ba6ddcae36ded15f",
            "8a63d7f01f324e00b7f803b41722e024",
            "95bc2323597a46abaf8264b106f649c3",
            "7fd46002b02f4f279b65f2b813a3eec9",
            "4ca0474f19004e6fb2540888549f299b",
            "40f1d83720a04d10bfe0d8efc932d1c6",
            "dca0c5a49e024bc993fe03c5a9236d08",
            "b570d5c9d0604aa09211a4730e9da9a2",
            "06a53899fc464abebd7700bd7d0b1cd8",
            "de516871d7b04875be8bc270546d52b5",
            "92309c28356d4b55b17696740009ac17",
            "6c3cdb35e6224bbaaf8e0ff4ad705146",
            "13a0b3e48224459fbe61407fa0a67432",
            "131dae0098e1478a99a11b843c40f2fa"
          ]
        },
        "id": "c4fd64f4-b5c9-467d-a85a-4e90226adeae",
        "outputId": "90f7624c-aa2e-4909-e089-4fc67e89c940"
      },
      "outputs": [
        {
          "output_type": "display_data",
          "data": {
            "text/plain": [
              "tokenizer_config.json:   0%|          | 0.00/25.0 [00:00<?, ?B/s]"
            ],
            "application/vnd.jupyter.widget-view+json": {
              "version_major": 2,
              "version_minor": 0,
              "model_id": "e323eb5f7b714a92b7cc4881e8af91d9"
            }
          },
          "metadata": {}
        },
        {
          "output_type": "display_data",
          "data": {
            "text/plain": [
              "vocab.json:   0%|          | 0.00/899k [00:00<?, ?B/s]"
            ],
            "application/vnd.jupyter.widget-view+json": {
              "version_major": 2,
              "version_minor": 0,
              "model_id": "8d96c771cb1e44948c3c85bf1f45dbde"
            }
          },
          "metadata": {}
        },
        {
          "output_type": "display_data",
          "data": {
            "text/plain": [
              "merges.txt:   0%|          | 0.00/456k [00:00<?, ?B/s]"
            ],
            "application/vnd.jupyter.widget-view+json": {
              "version_major": 2,
              "version_minor": 0,
              "model_id": "7ed8003b4e344cdcb7dd4aa189c90f90"
            }
          },
          "metadata": {}
        },
        {
          "output_type": "display_data",
          "data": {
            "text/plain": [
              "special_tokens_map.json:   0%|          | 0.00/150 [00:00<?, ?B/s]"
            ],
            "application/vnd.jupyter.widget-view+json": {
              "version_major": 2,
              "version_minor": 0,
              "model_id": "7fd46002b02f4f279b65f2b813a3eec9"
            }
          },
          "metadata": {}
        }
      ],
      "source": [
        "# Load the tokenizer associated with the CodeBERT model\n",
        "tokenizer = AutoTokenizer.from_pretrained(model_name)"
      ]
    },
    {
      "cell_type": "code",
      "execution_count": 17,
      "id": "43ddc8a9-817e-4ad9-8a92-ee96e0eed1ed",
      "metadata": {
        "colab": {
          "base_uri": "https://localhost:8080/"
        },
        "id": "43ddc8a9-817e-4ad9-8a92-ee96e0eed1ed",
        "outputId": "efef3e62-22f3-4957-a323-2d0107c95cc2"
      },
      "outputs": [
        {
          "output_type": "stream",
          "name": "stdout",
          "text": [
            "Tokenized input shape: torch.Size([1974, 512])\n"
          ]
        }
      ],
      "source": [
        "# Tokenize the Kotlin code\n",
        "tokenized_kotlin_code = tokenizer(kotlin_code, padding=True, truncation='longest_first', return_tensors=\"pt\", max_length=512)\n",
        "print(\"Tokenized input shape:\", tokenized_kotlin_code.input_ids.shape)"
      ]
    },
    {
      "cell_type": "code",
      "execution_count": 18,
      "id": "ff890714-97ad-4fbd-acaf-203de8a1f549",
      "metadata": {
        "colab": {
          "base_uri": "https://localhost:8080/"
        },
        "id": "ff890714-97ad-4fbd-acaf-203de8a1f549",
        "outputId": "55f420a7-ec5c-4d8c-d260-558e0cf748ba"
      },
      "outputs": [
        {
          "output_type": "stream",
          "name": "stdout",
          "text": [
            "Tokenized sequence 1:\n",
            "['<s>', '/*', 'Ċ', '*', 'ĠCopyright', 'Ġ2014', '-', '20', '21', 'ĠJet', 'Br', 'ains', 'Ġs', '.', 'r', '.', 'o', 'Ġand', 'Ġcontributors', '.', 'ĠUse', 'Ġof', 'Ġthis', 'Ġsource', 'Ġcode', 'Ġis', 'Ġgoverned', 'Ġby', 'Ġthe', 'ĠApache', 'Ġ2', '.', '0', 'Ġlicense', '.', 'Ċ', '*/', 'Ċ', 'package', 'Ġio', '.', 'k', 'tor', '.', 'serial', 'ization', '.', 'test', 'Ċ', 'Ċ', 'import', 'Ġio', '.', 'k', 'tor', '.', 'http', '.*', 'Ċ', 'import', 'Ġio', '.', 'k', 'tor', '.', 'server', '.', 'application', '.*', 'Ċ', 'import', 'Ġio', '.', 'k', 'tor', '.', 'server', '.', 'plugins', '.', 'content', 'neg', 'otiation', '.*', 'Ċ', 'import', 'Ġio', '.', 'k', 'tor', '.', 'server', '.', 'request', '.*', 'Ċ', 'import', 'Ġio', '.', 'k', 'tor', '.', 'server', '.', 'response', '.*', 'Ċ', 'import', 'Ġio', '.', 'k', 'tor', '.', 'server', '.', 'r', 'outing', '.*', 'Ċ', 'import', 'Ġio', '.', 'k', 'tor', '.', 'server', '.', 'testing', '.*', 'Ċ', 'import', 'Ġk', 'ot', 'lin', 'x', '.', 'cor', 'out', 'ines', '.*', 'Ċ', 'import', 'Ġk', 'ot', 'lin', 'x', '.', 'cor', 'out', 'ines', '.', 'flow', '.*', 'Ċ', 'import', 'Ġk', 'ot', 'lin', 'x', '.', 'serial', 'ization', '.*', 'Ċ', 'import', 'Ġjava', '.', 'n', 'io', '.', 'ch', 'ars', 'et', '.*', 'Ċ', 'import', 'Ġk', 'ot', 'lin', '.', 'test', '.*', 'Ċ', 'Ċ', '@', 'Supp', 'ress', '(\"', 'DEP', 'REC', 'ATION', '\")', 'Ċ', 'public', 'Ġabstract', 'Ġclass', 'ĠAbstract', 'Server', 'Serial', 'ization', 'Test', 'Ġ{', 'Ċ', 'Ġ', 'Ġ', 'Ġ', 'Ġprivate', 'Ġval', 'Ġu', 'c', 'Ġ=', 'Ġ\"\\\\', 'u', '04', '22', '\"', 'ĊĊ', 'Ġ', 'Ġ', 'Ġ', 'Ġprotected', 'Ġabstract', 'Ġval', 'Ġdefault', 'Content', 'Type', ':', 'ĠContent', 'Type', 'Ċ', 'Ġ', 'Ġ', 'Ġ', 'Ġprotected', 'Ġabstract', 'Ġval', 'Ġcustom', 'Content', 'Type', ':', 'ĠContent', 'Type', 'Ċ', 'Ġ', 'Ġ', 'Ġ', 'Ġprotected', 'Ġabstract', 'Ġfun', 'ĠContent', 'Neg', 'otiation', 'Config', '.', 'config', 'ure', 'Content', 'Neg', 'otiation', '(', 'content', 'Type', ':', 'ĠContent', 'Type', ')', 'ĊĊ', 'Ġ', 'Ġ', 'Ġ', 'Ġprotected', 'Ġabstract', 'Ġfun', 'Ġsimple', 'Serial', 'ize', '(', 'any', ':', 'ĠMy', 'Entity', '):', 'ĠByte', 'Array', 'Ċ', 'Ġ', 'Ġ', 'Ġ', 'Ġprotected', 'Ġabstract', 'Ġfun', 'Ġsimple', 'Des', 'erial', 'ize', '(', 't', ':', 'ĠByte', 'Array', '):', 'ĠMy', 'Entity', 'Ċ', 'Ġ', 'Ġ', 'Ġ', 'Ġprotected', 'Ġabstract', 'Ġfun', 'Ġsimple', 'Des', 'erial', 'ize', 'List', '(', 't', ':', 'ĠByte', 'Array', ',', 'Ġchars', 'et', ':', 'ĠCh', 'ars', 'et', 'Ġ=', 'ĠCh', 'ars', 'ets', '.', 'UTF', '_', '8', '):', 'ĠList', '<', 'My', 'Entity', '>', 'ĊĊ', 'Ġ', 'Ġ', 'Ġ', 'Ġprivate', 'Ġfun', 'Ġwith', 'Test', 'Serial', 'izing', 'Application', '(', 'Ċ', 'Ġ', 'Ġ', 'Ġ', 'Ġ', 'Ġ', 'Ġ', 'Ġ', 'Ġblock', ':', 'Ġsuspend', 'ĠTest', 'Application', 'Engine', '.', '()', 'Ġ->', 'ĠUnit', 'Ċ', 'Ġ', 'Ġ', 'Ġ', 'Ġ):', 'ĠUnit', 'Ġ=', 'Ġwith', 'Test', 'Application', 'Ġ{', 'Ċ', 'Ġ', 'Ġ', 'Ġ', 'Ġ', 'Ġ', 'Ġ', 'Ġ', 'Ġapplication', '.', 'install', '(', 'Content', 'Neg', 'otiation', ')', 'Ġ{', 'Ċ', 'Ġ', 'Ġ', 'Ġ', 'Ġ', 'Ġ', 'Ġ', 'Ġ', 'Ġ', 'Ġ', 'Ġ', 'Ġ', 'Ġconfigure', 'Content', 'Neg', 'otiation', '(', 'default', 'Content', 'Type', ')', 'Ċ', 'Ġ', 'Ġ', 'Ġ', 'Ġ', 'Ġ', 'Ġ', 'Ġ', 'Ġ}', 'ĊĊ', 'Ġ', 'Ġ', 'Ġ', 'Ġ', 'Ġ', 'Ġ', 'Ġ', 'Ġapplication', '.', 'r', 'outing', 'Ġ{', 'Ċ', 'Ġ', 'Ġ', 'Ġ', 'Ġ', 'Ġ', 'Ġ', 'Ġ', 'Ġ', 'Ġ', 'Ġ', 'Ġ', 'Ġget', '(\"', '/', 'list', '\")', 'Ġ{', 'Ċ', 'Ġ', 'Ġ', 'Ġ', 'Ġ', 'Ġ', 'Ġ', 'Ġ', 'Ġ', 'Ġ', 'Ġ', 'Ġ', 'Ġ', 'Ġ', 'Ġ', 'Ġ', 'Ġcall', '.', 'respond', '(', 'test', 'Ent', 'ities', ')', 'Ċ', 'Ġ', 'Ġ', 'Ġ', 'Ġ', 'Ġ', 'Ġ', 'Ġ', 'Ġ', 'Ġ', 'Ġ', 'Ġ', 'Ġ}', 'Ċ', 'Ġ', 'Ġ', 'Ġ', 'Ġ', 'Ġ', 'Ġ', 'Ġ', 'Ġ', 'Ġ', 'Ġ', 'Ġ', 'Ġget', '(\"', '</s>']\n",
            "Tokenized sequence 2:\n",
            "['<s>', 'import', 'Ġio', '.', 'k', 'tor', '.', 'client', '.', 'plugins', '.', 'content', 'neg', 'otiation', '.', 'tests', '.*', 'Ċ', 'import', 'Ġio', '.', 'k', 'tor', '.', 'http', '.*', 'Ċ', 'import', 'Ġio', '.', 'k', 'tor', '.', 'serial', 'ization', '.', 'jack', 'son', '.*', 'Ċ', 'Ċ', '/*', 'Ċ', 'Ġ*', 'ĠCopyright', 'Ġ2014', '-', '20', '21', 'ĠJet', 'Br', 'ains', 'Ġs', '.', 'r', '.', 'o', 'Ġand', 'Ġcontributors', '.', 'ĠUse', 'Ġof', 'Ġthis', 'Ġsource', 'Ġcode', 'Ġis', 'Ġgoverned', 'Ġby', 'Ġthe', 'ĠApache', 'Ġ2', '.', '0', 'Ġlicense', '.', 'Ċ', 'Ġ*/', 'Ċ', 'Ċ', 'class', 'ĠJackson', 'Content', 'Neg', 'otiation', 'Test', 'Ġ:', 'ĠJ', 'son', 'Content', 'Neg', 'otiation', 'Test', '(', 'Jackson', 'Con', 'ver', 'ter', '())', 'Ġ{', 'Ċ', 'Ġ', 'Ġ', 'Ġ', 'Ġoverride', 'Ġval', 'Ġextra', 'Field', 'Result', 'Ġ=', 'ĠH', 'ttp', 'Status', 'Code', '.', 'Bad', 'Request', 'Ċ', '}', 'Ċ', '</s>', '<pad>', '<pad>', '<pad>', '<pad>', '<pad>', '<pad>', '<pad>', '<pad>', '<pad>', '<pad>', '<pad>', '<pad>', '<pad>', '<pad>', '<pad>', '<pad>', '<pad>', '<pad>', '<pad>', '<pad>', '<pad>', '<pad>', '<pad>', '<pad>', '<pad>', '<pad>', '<pad>', '<pad>', '<pad>', '<pad>', '<pad>', '<pad>', '<pad>', '<pad>', '<pad>', '<pad>', '<pad>', '<pad>', '<pad>', '<pad>', '<pad>', '<pad>', '<pad>', '<pad>', '<pad>', '<pad>', '<pad>', '<pad>', '<pad>', '<pad>', '<pad>', '<pad>', '<pad>', '<pad>', '<pad>', '<pad>', '<pad>', '<pad>', '<pad>', '<pad>', '<pad>', '<pad>', '<pad>', '<pad>', '<pad>', '<pad>', '<pad>', '<pad>', '<pad>', '<pad>', '<pad>', '<pad>', '<pad>', '<pad>', '<pad>', '<pad>', '<pad>', '<pad>', '<pad>', '<pad>', '<pad>', '<pad>', '<pad>', '<pad>', '<pad>', '<pad>', '<pad>', '<pad>', '<pad>', '<pad>', '<pad>', '<pad>', '<pad>', '<pad>', '<pad>', '<pad>', '<pad>', '<pad>', '<pad>', '<pad>', '<pad>', '<pad>', '<pad>', '<pad>', '<pad>', '<pad>', '<pad>', '<pad>', '<pad>', '<pad>', '<pad>', '<pad>', '<pad>', '<pad>', '<pad>', '<pad>', '<pad>', '<pad>', '<pad>', '<pad>', '<pad>', '<pad>', '<pad>', '<pad>', '<pad>', '<pad>', '<pad>', '<pad>', '<pad>', '<pad>', '<pad>', '<pad>', '<pad>', '<pad>', '<pad>', '<pad>', '<pad>', '<pad>', '<pad>', '<pad>', '<pad>', '<pad>', '<pad>', '<pad>', '<pad>', '<pad>', '<pad>', '<pad>', '<pad>', '<pad>', '<pad>', '<pad>', '<pad>', '<pad>', '<pad>', '<pad>', '<pad>', '<pad>', '<pad>', '<pad>', '<pad>', '<pad>', '<pad>', '<pad>', '<pad>', '<pad>', '<pad>', '<pad>', '<pad>', '<pad>', '<pad>', '<pad>', '<pad>', '<pad>', '<pad>', '<pad>', '<pad>', '<pad>', '<pad>', '<pad>', '<pad>', '<pad>', '<pad>', '<pad>', '<pad>', '<pad>', '<pad>', '<pad>', '<pad>', '<pad>', '<pad>', '<pad>', '<pad>', '<pad>', '<pad>', '<pad>', '<pad>', '<pad>', '<pad>', '<pad>', '<pad>', '<pad>', '<pad>', '<pad>', '<pad>', '<pad>', '<pad>', '<pad>', '<pad>', '<pad>', '<pad>', '<pad>', '<pad>', '<pad>', '<pad>', '<pad>', '<pad>', '<pad>', '<pad>', '<pad>', '<pad>', '<pad>', '<pad>', '<pad>', '<pad>', '<pad>', '<pad>', '<pad>', '<pad>', '<pad>', '<pad>', '<pad>', '<pad>', '<pad>', '<pad>', '<pad>', '<pad>', '<pad>', '<pad>', '<pad>', '<pad>', '<pad>', '<pad>', '<pad>', '<pad>', '<pad>', '<pad>', '<pad>', '<pad>', '<pad>', '<pad>', '<pad>', '<pad>', '<pad>', '<pad>', '<pad>', '<pad>', '<pad>', '<pad>', '<pad>', '<pad>', '<pad>', '<pad>', '<pad>', '<pad>', '<pad>', '<pad>', '<pad>', '<pad>', '<pad>', '<pad>', '<pad>', '<pad>', '<pad>', '<pad>', '<pad>', '<pad>', '<pad>', '<pad>', '<pad>', '<pad>', '<pad>', '<pad>', '<pad>', '<pad>', '<pad>', '<pad>', '<pad>', '<pad>', '<pad>', '<pad>', '<pad>', '<pad>', '<pad>', '<pad>', '<pad>', '<pad>', '<pad>', '<pad>', '<pad>', '<pad>', '<pad>', '<pad>', '<pad>', '<pad>', '<pad>', '<pad>', '<pad>', '<pad>', '<pad>', '<pad>', '<pad>', '<pad>', '<pad>', '<pad>', '<pad>', '<pad>', '<pad>', '<pad>', '<pad>', '<pad>', '<pad>', '<pad>', '<pad>', '<pad>', '<pad>', '<pad>', '<pad>', '<pad>', '<pad>', '<pad>', '<pad>', '<pad>', '<pad>', '<pad>', '<pad>', '<pad>', '<pad>', '<pad>', '<pad>', '<pad>', '<pad>', '<pad>', '<pad>', '<pad>', '<pad>', '<pad>', '<pad>', '<pad>', '<pad>', '<pad>', '<pad>', '<pad>', '<pad>', '<pad>', '<pad>', '<pad>', '<pad>', '<pad>', '<pad>', '<pad>', '<pad>', '<pad>', '<pad>', '<pad>', '<pad>', '<pad>', '<pad>', '<pad>', '<pad>', '<pad>', '<pad>', '<pad>', '<pad>', '<pad>', '<pad>', '<pad>', '<pad>', '<pad>', '<pad>', '<pad>', '<pad>', '<pad>', '<pad>', '<pad>', '<pad>', '<pad>', '<pad>', '<pad>', '<pad>', '<pad>', '<pad>']\n"
          ]
        }
      ],
      "source": [
        "# Print out tokenized sequences for inspection\n",
        "for i, encoding in enumerate(tokenized_kotlin_code.encodings):\n",
        "    print(f\"Tokenized sequence {i + 1}:\")\n",
        "    print(encoding.tokens)\n",
        "    if i == 1:\n",
        "        break"
      ]
    },
    {
      "cell_type": "code",
      "execution_count": 19,
      "id": "e4d4ea91-66c1-4842-89e2-299fcef97066",
      "metadata": {
        "id": "e4d4ea91-66c1-4842-89e2-299fcef97066"
      },
      "outputs": [],
      "source": [
        "# Shuffle the dataset\n",
        "# kotlin_code_shuffled, _ = train_test_split(kotlin_code, test_size=0.01, random_state=42)"
      ]
    },
    {
      "cell_type": "code",
      "execution_count": 20,
      "id": "b2c9237b-27e3-468f-9254-d38189d2d192",
      "metadata": {
        "id": "b2c9237b-27e3-468f-9254-d38189d2d192"
      },
      "outputs": [],
      "source": [
        "# Split the shuffled dataset into training, validation, and test sets\n",
        "train_size = 0.6\n",
        "val_test_size = 0.2\n",
        "train_kotlin_code, temp_kotlin_code = train_test_split(kotlin_code, train_size=train_size, random_state=42)\n",
        "val_kotlin_code, test_kotlin_code = train_test_split(temp_kotlin_code, test_size=val_test_size, random_state=42)"
      ]
    },
    {
      "cell_type": "code",
      "execution_count": 21,
      "id": "defcc3cc-72d4-40d9-bc70-3a0fc698277e",
      "metadata": {
        "colab": {
          "base_uri": "https://localhost:8080/"
        },
        "id": "defcc3cc-72d4-40d9-bc70-3a0fc698277e",
        "outputId": "9c4ee23f-575a-4f9c-de21-1e486fe8e9bd"
      },
      "outputs": [
        {
          "output_type": "stream",
          "name": "stdout",
          "text": [
            "Training set size: 1184\n",
            "Validation set size: 632\n",
            "Test set size: 158\n"
          ]
        }
      ],
      "source": [
        "# Print the sizes of the training, validation, and test sets\n",
        "print(\"Training set size:\", len(train_kotlin_code))\n",
        "print(\"Validation set size:\", len(val_kotlin_code))\n",
        "print(\"Test set size:\", len(test_kotlin_code))"
      ]
    },
    {
      "cell_type": "code",
      "execution_count": 22,
      "id": "8d27ee0d-f62d-4ffc-ad92-493b6f5d9e73",
      "metadata": {
        "id": "8d27ee0d-f62d-4ffc-ad92-493b6f5d9e73"
      },
      "outputs": [],
      "source": [
        "class KotlinDataset(Dataset):\n",
        "    def __init__(self, tokenized_kotlin_code):\n",
        "        self.tokenized_kotlin_code = tokenized_kotlin_code\n",
        "\n",
        "    def __len__(self):\n",
        "        return len(self.tokenized_kotlin_code)\n",
        "\n",
        "    def __getitem__(self, idx):\n",
        "        encoding = self.tokenized_kotlin_code[idx]\n",
        "        input_ids = encoding.ids\n",
        "        attention_mask = encoding.attention_mask\n",
        "        return {\n",
        "            'input_ids': torch.tensor(input_ids),\n",
        "            'attention_mask': torch.tensor(attention_mask)\n",
        "        }"
      ]
    },
    {
      "cell_type": "code",
      "execution_count": 23,
      "id": "c1334940-0351-4778-bda3-310f8449391a",
      "metadata": {
        "id": "c1334940-0351-4778-bda3-310f8449391a"
      },
      "outputs": [],
      "source": [
        "# Create datasets for training, validation, and test\n",
        "train_dataset = KotlinDataset(tokenized_kotlin_code[:len(train_kotlin_code)])\n",
        "val_dataset = KotlinDataset(tokenized_kotlin_code[len(train_kotlin_code):len(train_kotlin_code) + len(val_kotlin_code)])\n",
        "test_dataset = KotlinDataset(tokenized_kotlin_code[len(train_kotlin_code) + len(val_kotlin_code):])"
      ]
    },
    {
      "cell_type": "code",
      "execution_count": 24,
      "id": "906f3744-a75a-4123-849b-1c429d3a501b",
      "metadata": {
        "id": "906f3744-a75a-4123-849b-1c429d3a501b"
      },
      "outputs": [],
      "source": [
        "batch_size = 8"
      ]
    },
    {
      "cell_type": "code",
      "execution_count": 25,
      "id": "5e1859e1-729f-45d3-9408-ae7fb0991ab4",
      "metadata": {
        "id": "5e1859e1-729f-45d3-9408-ae7fb0991ab4"
      },
      "outputs": [],
      "source": [
        "# Create dataloaders\n",
        "train_dataloader = DataLoader(train_dataset, batch_size=batch_size, shuffle=True)\n",
        "val_dataloader = DataLoader(val_dataset, batch_size=batch_size)"
      ]
    },
    {
      "cell_type": "code",
      "execution_count": 26,
      "id": "214f2869-f9ea-4991-b8d7-c86d1ad9f354",
      "metadata": {
        "id": "214f2869-f9ea-4991-b8d7-c86d1ad9f354"
      },
      "outputs": [],
      "source": [
        "# Fine-tuning configuration\n",
        "learning_rate = 5e-5\n",
        "epochs = 3"
      ]
    },
    {
      "cell_type": "code",
      "execution_count": 27,
      "id": "58d10cac-253e-4a12-90bb-fd471d2ac7af",
      "metadata": {
        "colab": {
          "base_uri": "https://localhost:8080/"
        },
        "id": "58d10cac-253e-4a12-90bb-fd471d2ac7af",
        "outputId": "5b6b9d90-d09b-4d2e-f873-612e30db279d"
      },
      "outputs": [
        {
          "output_type": "stream",
          "name": "stderr",
          "text": [
            "/usr/local/lib/python3.10/dist-packages/transformers/optimization.py:521: FutureWarning: This implementation of AdamW is deprecated and will be removed in a future version. Use the PyTorch implementation torch.optim.AdamW instead, or set `no_deprecation_warning=True` to disable this warning\n",
            "  warnings.warn(\n"
          ]
        }
      ],
      "source": [
        "# Define the optimizer\n",
        "optimizer = AdamW(model.parameters(), lr=learning_rate)\n",
        "\n",
        "# Define the scheduler\n",
        "num_training_steps = len(train_dataloader) * epochs\n",
        "scheduler = get_scheduler(\n",
        "    \"linear\",\n",
        "    optimizer=optimizer,\n",
        "    num_warmup_steps=int(0.1 * num_training_steps),  # 10% of training steps for warmup\n",
        "    num_training_steps=num_training_steps\n",
        ")"
      ]
    },
    {
      "cell_type": "code",
      "execution_count": 28,
      "id": "7871c3fb-6a03-46e3-a2f7-e77b33cf648e",
      "metadata": {
        "colab": {
          "base_uri": "https://localhost:8080/"
        },
        "id": "7871c3fb-6a03-46e3-a2f7-e77b33cf648e",
        "outputId": "8e0d7111-f5b1-4eac-c6e3-40e00476c1bb"
      },
      "outputs": [
        {
          "output_type": "stream",
          "name": "stdout",
          "text": [
            "Epoch 1: Average training loss 0.0000, Average validation loss 0.0000\n",
            "Epoch 2: Average training loss 0.0000, Average validation loss 0.0000\n",
            "Epoch 3: Average training loss 0.0000, Average validation loss 0.0000\n"
          ]
        }
      ],
      "source": [
        "# Move model to the appropriate device\n",
        "device = torch.device(\"cuda\" if torch.cuda.is_available() else \"cpu\")\n",
        "model.to(device)\n",
        "\n",
        "# Set the model in training mode\n",
        "model.train()\n",
        "\n",
        "# Training loop\n",
        "for epoch in range(epochs):\n",
        "    total_loss = 0.0\n",
        "\n",
        "    # Inside the training loop\n",
        "    for batch_idx, batch in enumerate(train_dataloader):\n",
        "        # Move batch to the appropriate device\n",
        "        batch = {k: v.to(device) for k, v in batch.items()}\n",
        "\n",
        "        # Clear gradients\n",
        "        optimizer.zero_grad()\n",
        "\n",
        "        # Forward pass\n",
        "        outputs = model(**batch)\n",
        "\n",
        "        # Calculate loss if available\n",
        "        if isinstance(outputs, MaskedLMOutput) and outputs.loss is not None:\n",
        "            loss = outputs.loss\n",
        "\n",
        "            # Backward pass\n",
        "            loss.backward()\n",
        "\n",
        "            # Update parameters\n",
        "            optimizer.step()\n",
        "\n",
        "            # Accumulate loss\n",
        "            total_loss += loss.item()\n",
        "\n",
        "            # Print loss and other relevant information\n",
        "            print(f\"Epoch [{epoch + 1}/{epochs}], Batch [{batch_idx + 1}/{len(train_dataloader)}], Loss: {loss.item()}\")\n",
        "\n",
        "    # Calculate average loss for the epoch\n",
        "    avg_train_loss = total_loss / len(train_dataloader)\n",
        "\n",
        "    # Validation loop\n",
        "    val_total_loss = 0.0\n",
        "    model.eval()\n",
        "    with torch.no_grad():\n",
        "        for val_batch in val_dataloader:\n",
        "            val_batch = {k: v.to(device) for k, v in val_batch.items()}\n",
        "            val_outputs = model(**val_batch)\n",
        "            if isinstance(val_outputs, MaskedLMOutput) and val_outputs.loss is not None:\n",
        "                val_loss = val_outputs.loss\n",
        "                val_total_loss += val_loss.item()\n",
        "\n",
        "    # Calculate average validation loss for the epoch\n",
        "    avg_val_loss = val_total_loss / len(val_dataloader)\n",
        "\n",
        "    # Print average loss for the epoch\n",
        "    print(f\"Epoch {epoch + 1}: Average training loss {avg_train_loss:.4f}, Average validation loss {avg_val_loss:.4f}\")\n"
      ]
    },
    {
      "cell_type": "code",
      "execution_count": 29,
      "id": "2c8afaf1-65c8-43a3-a43b-f30052b94344",
      "metadata": {
        "id": "2c8afaf1-65c8-43a3-a43b-f30052b94344"
      },
      "outputs": [],
      "source": [
        "# Save the model state dictionary\n",
        "torch.save(model.state_dict(), 'model_state.pth')"
      ]
    },
    {
      "cell_type": "code",
      "execution_count": 30,
      "id": "bedb0e1d-a4f3-4e13-b556-09dd42454df2",
      "metadata": {
        "colab": {
          "base_uri": "https://localhost:8080/"
        },
        "id": "bedb0e1d-a4f3-4e13-b556-09dd42454df2",
        "outputId": "7a9086f5-99ea-44f2-88e0-4bd144b9b6eb"
      },
      "outputs": [
        {
          "output_type": "stream",
          "name": "stderr",
          "text": [
            "Some weights of RobertaForMaskedLM were not initialized from the model checkpoint at microsoft/codebert-base and are newly initialized: ['lm_head.bias', 'lm_head.decoder.bias', 'lm_head.dense.bias', 'lm_head.dense.weight', 'lm_head.layer_norm.bias', 'lm_head.layer_norm.weight']\n",
            "You should probably TRAIN this model on a down-stream task to be able to use it for predictions and inference.\n"
          ]
        }
      ],
      "source": [
        "# Initialize a new model instance\n",
        "model = AutoModelForMaskedLM.from_pretrained(model_name)"
      ]
    },
    {
      "cell_type": "code",
      "execution_count": 31,
      "id": "15d683d2-6c17-48ed-a69d-4e3b8bdda466",
      "metadata": {
        "colab": {
          "base_uri": "https://localhost:8080/"
        },
        "id": "15d683d2-6c17-48ed-a69d-4e3b8bdda466",
        "outputId": "76423d69-0415-45b5-a0a3-34e79185075d"
      },
      "outputs": [
        {
          "output_type": "execute_result",
          "data": {
            "text/plain": [
              "<All keys matched successfully>"
            ]
          },
          "metadata": {},
          "execution_count": 31
        }
      ],
      "source": [
        "# Load the saved model state dictionary\n",
        "model.load_state_dict(torch.load('model_state.pth'))"
      ]
    },
    {
      "cell_type": "code",
      "execution_count": null,
      "id": "26df8f2f-1d61-43cd-a82c-2c5862220a3d",
      "metadata": {
        "id": "26df8f2f-1d61-43cd-a82c-2c5862220a3d"
      },
      "outputs": [],
      "source": []
    }
  ],
  "metadata": {
    "kernelspec": {
      "display_name": "Python 3",
      "name": "python3"
    },
    "language_info": {
      "codemirror_mode": {
        "name": "ipython",
        "version": 3
      },
      "file_extension": ".py",
      "mimetype": "text/x-python",
      "name": "python",
      "nbconvert_exporter": "python",
      "pygments_lexer": "ipython3",
      "version": "3.10.7"
    },
    "colab": {
      "provenance": [],
      "gpuType": "T4"
    },
    "accelerator": "GPU",
    "widgets": {
      "application/vnd.jupyter.widget-state+json": {
        "8446b2c5e322410b9e145176b026dee1": {
          "model_module": "@jupyter-widgets/controls",
          "model_name": "HBoxModel",
          "model_module_version": "1.5.0",
          "state": {
            "_dom_classes": [],
            "_model_module": "@jupyter-widgets/controls",
            "_model_module_version": "1.5.0",
            "_model_name": "HBoxModel",
            "_view_count": null,
            "_view_module": "@jupyter-widgets/controls",
            "_view_module_version": "1.5.0",
            "_view_name": "HBoxView",
            "box_style": "",
            "children": [
              "IPY_MODEL_f23e8711b9e94b9eb92432e1b9414d2c",
              "IPY_MODEL_1685e7019da041f28eafa60eef2d4078",
              "IPY_MODEL_af1668c6933b484da21ebadf082e2f46"
            ],
            "layout": "IPY_MODEL_dfbd5b8aa83542a9a48b7d20c9fe4112"
          }
        },
        "f23e8711b9e94b9eb92432e1b9414d2c": {
          "model_module": "@jupyter-widgets/controls",
          "model_name": "HTMLModel",
          "model_module_version": "1.5.0",
          "state": {
            "_dom_classes": [],
            "_model_module": "@jupyter-widgets/controls",
            "_model_module_version": "1.5.0",
            "_model_name": "HTMLModel",
            "_view_count": null,
            "_view_module": "@jupyter-widgets/controls",
            "_view_module_version": "1.5.0",
            "_view_name": "HTMLView",
            "description": "",
            "description_tooltip": null,
            "layout": "IPY_MODEL_f0b6c3cc55c647f293779423752f15a3",
            "placeholder": "​",
            "style": "IPY_MODEL_13fe44509bf34522a616c92865707dbf",
            "value": "config.json: 100%"
          }
        },
        "1685e7019da041f28eafa60eef2d4078": {
          "model_module": "@jupyter-widgets/controls",
          "model_name": "FloatProgressModel",
          "model_module_version": "1.5.0",
          "state": {
            "_dom_classes": [],
            "_model_module": "@jupyter-widgets/controls",
            "_model_module_version": "1.5.0",
            "_model_name": "FloatProgressModel",
            "_view_count": null,
            "_view_module": "@jupyter-widgets/controls",
            "_view_module_version": "1.5.0",
            "_view_name": "ProgressView",
            "bar_style": "success",
            "description": "",
            "description_tooltip": null,
            "layout": "IPY_MODEL_cc4d2e5df20a40939b24e450f7bc8d14",
            "max": 498,
            "min": 0,
            "orientation": "horizontal",
            "style": "IPY_MODEL_c9a141e34ef5424eac17ec66d271c278",
            "value": 498
          }
        },
        "af1668c6933b484da21ebadf082e2f46": {
          "model_module": "@jupyter-widgets/controls",
          "model_name": "HTMLModel",
          "model_module_version": "1.5.0",
          "state": {
            "_dom_classes": [],
            "_model_module": "@jupyter-widgets/controls",
            "_model_module_version": "1.5.0",
            "_model_name": "HTMLModel",
            "_view_count": null,
            "_view_module": "@jupyter-widgets/controls",
            "_view_module_version": "1.5.0",
            "_view_name": "HTMLView",
            "description": "",
            "description_tooltip": null,
            "layout": "IPY_MODEL_3b2203555ea848f9a58a850d47b9f130",
            "placeholder": "​",
            "style": "IPY_MODEL_86330be0f6274acd8ad52bcccbecdd61",
            "value": " 498/498 [00:00&lt;00:00, 22.5kB/s]"
          }
        },
        "dfbd5b8aa83542a9a48b7d20c9fe4112": {
          "model_module": "@jupyter-widgets/base",
          "model_name": "LayoutModel",
          "model_module_version": "1.2.0",
          "state": {
            "_model_module": "@jupyter-widgets/base",
            "_model_module_version": "1.2.0",
            "_model_name": "LayoutModel",
            "_view_count": null,
            "_view_module": "@jupyter-widgets/base",
            "_view_module_version": "1.2.0",
            "_view_name": "LayoutView",
            "align_content": null,
            "align_items": null,
            "align_self": null,
            "border": null,
            "bottom": null,
            "display": null,
            "flex": null,
            "flex_flow": null,
            "grid_area": null,
            "grid_auto_columns": null,
            "grid_auto_flow": null,
            "grid_auto_rows": null,
            "grid_column": null,
            "grid_gap": null,
            "grid_row": null,
            "grid_template_areas": null,
            "grid_template_columns": null,
            "grid_template_rows": null,
            "height": null,
            "justify_content": null,
            "justify_items": null,
            "left": null,
            "margin": null,
            "max_height": null,
            "max_width": null,
            "min_height": null,
            "min_width": null,
            "object_fit": null,
            "object_position": null,
            "order": null,
            "overflow": null,
            "overflow_x": null,
            "overflow_y": null,
            "padding": null,
            "right": null,
            "top": null,
            "visibility": null,
            "width": null
          }
        },
        "f0b6c3cc55c647f293779423752f15a3": {
          "model_module": "@jupyter-widgets/base",
          "model_name": "LayoutModel",
          "model_module_version": "1.2.0",
          "state": {
            "_model_module": "@jupyter-widgets/base",
            "_model_module_version": "1.2.0",
            "_model_name": "LayoutModel",
            "_view_count": null,
            "_view_module": "@jupyter-widgets/base",
            "_view_module_version": "1.2.0",
            "_view_name": "LayoutView",
            "align_content": null,
            "align_items": null,
            "align_self": null,
            "border": null,
            "bottom": null,
            "display": null,
            "flex": null,
            "flex_flow": null,
            "grid_area": null,
            "grid_auto_columns": null,
            "grid_auto_flow": null,
            "grid_auto_rows": null,
            "grid_column": null,
            "grid_gap": null,
            "grid_row": null,
            "grid_template_areas": null,
            "grid_template_columns": null,
            "grid_template_rows": null,
            "height": null,
            "justify_content": null,
            "justify_items": null,
            "left": null,
            "margin": null,
            "max_height": null,
            "max_width": null,
            "min_height": null,
            "min_width": null,
            "object_fit": null,
            "object_position": null,
            "order": null,
            "overflow": null,
            "overflow_x": null,
            "overflow_y": null,
            "padding": null,
            "right": null,
            "top": null,
            "visibility": null,
            "width": null
          }
        },
        "13fe44509bf34522a616c92865707dbf": {
          "model_module": "@jupyter-widgets/controls",
          "model_name": "DescriptionStyleModel",
          "model_module_version": "1.5.0",
          "state": {
            "_model_module": "@jupyter-widgets/controls",
            "_model_module_version": "1.5.0",
            "_model_name": "DescriptionStyleModel",
            "_view_count": null,
            "_view_module": "@jupyter-widgets/base",
            "_view_module_version": "1.2.0",
            "_view_name": "StyleView",
            "description_width": ""
          }
        },
        "cc4d2e5df20a40939b24e450f7bc8d14": {
          "model_module": "@jupyter-widgets/base",
          "model_name": "LayoutModel",
          "model_module_version": "1.2.0",
          "state": {
            "_model_module": "@jupyter-widgets/base",
            "_model_module_version": "1.2.0",
            "_model_name": "LayoutModel",
            "_view_count": null,
            "_view_module": "@jupyter-widgets/base",
            "_view_module_version": "1.2.0",
            "_view_name": "LayoutView",
            "align_content": null,
            "align_items": null,
            "align_self": null,
            "border": null,
            "bottom": null,
            "display": null,
            "flex": null,
            "flex_flow": null,
            "grid_area": null,
            "grid_auto_columns": null,
            "grid_auto_flow": null,
            "grid_auto_rows": null,
            "grid_column": null,
            "grid_gap": null,
            "grid_row": null,
            "grid_template_areas": null,
            "grid_template_columns": null,
            "grid_template_rows": null,
            "height": null,
            "justify_content": null,
            "justify_items": null,
            "left": null,
            "margin": null,
            "max_height": null,
            "max_width": null,
            "min_height": null,
            "min_width": null,
            "object_fit": null,
            "object_position": null,
            "order": null,
            "overflow": null,
            "overflow_x": null,
            "overflow_y": null,
            "padding": null,
            "right": null,
            "top": null,
            "visibility": null,
            "width": null
          }
        },
        "c9a141e34ef5424eac17ec66d271c278": {
          "model_module": "@jupyter-widgets/controls",
          "model_name": "ProgressStyleModel",
          "model_module_version": "1.5.0",
          "state": {
            "_model_module": "@jupyter-widgets/controls",
            "_model_module_version": "1.5.0",
            "_model_name": "ProgressStyleModel",
            "_view_count": null,
            "_view_module": "@jupyter-widgets/base",
            "_view_module_version": "1.2.0",
            "_view_name": "StyleView",
            "bar_color": null,
            "description_width": ""
          }
        },
        "3b2203555ea848f9a58a850d47b9f130": {
          "model_module": "@jupyter-widgets/base",
          "model_name": "LayoutModel",
          "model_module_version": "1.2.0",
          "state": {
            "_model_module": "@jupyter-widgets/base",
            "_model_module_version": "1.2.0",
            "_model_name": "LayoutModel",
            "_view_count": null,
            "_view_module": "@jupyter-widgets/base",
            "_view_module_version": "1.2.0",
            "_view_name": "LayoutView",
            "align_content": null,
            "align_items": null,
            "align_self": null,
            "border": null,
            "bottom": null,
            "display": null,
            "flex": null,
            "flex_flow": null,
            "grid_area": null,
            "grid_auto_columns": null,
            "grid_auto_flow": null,
            "grid_auto_rows": null,
            "grid_column": null,
            "grid_gap": null,
            "grid_row": null,
            "grid_template_areas": null,
            "grid_template_columns": null,
            "grid_template_rows": null,
            "height": null,
            "justify_content": null,
            "justify_items": null,
            "left": null,
            "margin": null,
            "max_height": null,
            "max_width": null,
            "min_height": null,
            "min_width": null,
            "object_fit": null,
            "object_position": null,
            "order": null,
            "overflow": null,
            "overflow_x": null,
            "overflow_y": null,
            "padding": null,
            "right": null,
            "top": null,
            "visibility": null,
            "width": null
          }
        },
        "86330be0f6274acd8ad52bcccbecdd61": {
          "model_module": "@jupyter-widgets/controls",
          "model_name": "DescriptionStyleModel",
          "model_module_version": "1.5.0",
          "state": {
            "_model_module": "@jupyter-widgets/controls",
            "_model_module_version": "1.5.0",
            "_model_name": "DescriptionStyleModel",
            "_view_count": null,
            "_view_module": "@jupyter-widgets/base",
            "_view_module_version": "1.2.0",
            "_view_name": "StyleView",
            "description_width": ""
          }
        },
        "2985d86422cb467dac71d59112fb780c": {
          "model_module": "@jupyter-widgets/controls",
          "model_name": "HBoxModel",
          "model_module_version": "1.5.0",
          "state": {
            "_dom_classes": [],
            "_model_module": "@jupyter-widgets/controls",
            "_model_module_version": "1.5.0",
            "_model_name": "HBoxModel",
            "_view_count": null,
            "_view_module": "@jupyter-widgets/controls",
            "_view_module_version": "1.5.0",
            "_view_name": "HBoxView",
            "box_style": "",
            "children": [
              "IPY_MODEL_f0c38725c80a45e9872e709fb94a4233",
              "IPY_MODEL_6dbc64411d594395b5413cd2f50b485d",
              "IPY_MODEL_5e9f72fbcc1a4d2ea092d1d945bbad0d"
            ],
            "layout": "IPY_MODEL_371ef0ddb970486c93dbf63f0711242f"
          }
        },
        "f0c38725c80a45e9872e709fb94a4233": {
          "model_module": "@jupyter-widgets/controls",
          "model_name": "HTMLModel",
          "model_module_version": "1.5.0",
          "state": {
            "_dom_classes": [],
            "_model_module": "@jupyter-widgets/controls",
            "_model_module_version": "1.5.0",
            "_model_name": "HTMLModel",
            "_view_count": null,
            "_view_module": "@jupyter-widgets/controls",
            "_view_module_version": "1.5.0",
            "_view_name": "HTMLView",
            "description": "",
            "description_tooltip": null,
            "layout": "IPY_MODEL_f600c31be7fa4a22b5952d7d860117a8",
            "placeholder": "​",
            "style": "IPY_MODEL_33e7edad66754948a602d20503d0a248",
            "value": "pytorch_model.bin: 100%"
          }
        },
        "6dbc64411d594395b5413cd2f50b485d": {
          "model_module": "@jupyter-widgets/controls",
          "model_name": "FloatProgressModel",
          "model_module_version": "1.5.0",
          "state": {
            "_dom_classes": [],
            "_model_module": "@jupyter-widgets/controls",
            "_model_module_version": "1.5.0",
            "_model_name": "FloatProgressModel",
            "_view_count": null,
            "_view_module": "@jupyter-widgets/controls",
            "_view_module_version": "1.5.0",
            "_view_name": "ProgressView",
            "bar_style": "success",
            "description": "",
            "description_tooltip": null,
            "layout": "IPY_MODEL_ee2f34cdf3f3402c8af5d5591d5ffa21",
            "max": 498627950,
            "min": 0,
            "orientation": "horizontal",
            "style": "IPY_MODEL_7f5d71f0e4464e26b387f659d42380d1",
            "value": 498627950
          }
        },
        "5e9f72fbcc1a4d2ea092d1d945bbad0d": {
          "model_module": "@jupyter-widgets/controls",
          "model_name": "HTMLModel",
          "model_module_version": "1.5.0",
          "state": {
            "_dom_classes": [],
            "_model_module": "@jupyter-widgets/controls",
            "_model_module_version": "1.5.0",
            "_model_name": "HTMLModel",
            "_view_count": null,
            "_view_module": "@jupyter-widgets/controls",
            "_view_module_version": "1.5.0",
            "_view_name": "HTMLView",
            "description": "",
            "description_tooltip": null,
            "layout": "IPY_MODEL_a6f15433e0344d7ebdab37c8b2522747",
            "placeholder": "​",
            "style": "IPY_MODEL_bfc8eddfe2c44d879542366dd96683e1",
            "value": " 499M/499M [00:01&lt;00:00, 233MB/s]"
          }
        },
        "371ef0ddb970486c93dbf63f0711242f": {
          "model_module": "@jupyter-widgets/base",
          "model_name": "LayoutModel",
          "model_module_version": "1.2.0",
          "state": {
            "_model_module": "@jupyter-widgets/base",
            "_model_module_version": "1.2.0",
            "_model_name": "LayoutModel",
            "_view_count": null,
            "_view_module": "@jupyter-widgets/base",
            "_view_module_version": "1.2.0",
            "_view_name": "LayoutView",
            "align_content": null,
            "align_items": null,
            "align_self": null,
            "border": null,
            "bottom": null,
            "display": null,
            "flex": null,
            "flex_flow": null,
            "grid_area": null,
            "grid_auto_columns": null,
            "grid_auto_flow": null,
            "grid_auto_rows": null,
            "grid_column": null,
            "grid_gap": null,
            "grid_row": null,
            "grid_template_areas": null,
            "grid_template_columns": null,
            "grid_template_rows": null,
            "height": null,
            "justify_content": null,
            "justify_items": null,
            "left": null,
            "margin": null,
            "max_height": null,
            "max_width": null,
            "min_height": null,
            "min_width": null,
            "object_fit": null,
            "object_position": null,
            "order": null,
            "overflow": null,
            "overflow_x": null,
            "overflow_y": null,
            "padding": null,
            "right": null,
            "top": null,
            "visibility": null,
            "width": null
          }
        },
        "f600c31be7fa4a22b5952d7d860117a8": {
          "model_module": "@jupyter-widgets/base",
          "model_name": "LayoutModel",
          "model_module_version": "1.2.0",
          "state": {
            "_model_module": "@jupyter-widgets/base",
            "_model_module_version": "1.2.0",
            "_model_name": "LayoutModel",
            "_view_count": null,
            "_view_module": "@jupyter-widgets/base",
            "_view_module_version": "1.2.0",
            "_view_name": "LayoutView",
            "align_content": null,
            "align_items": null,
            "align_self": null,
            "border": null,
            "bottom": null,
            "display": null,
            "flex": null,
            "flex_flow": null,
            "grid_area": null,
            "grid_auto_columns": null,
            "grid_auto_flow": null,
            "grid_auto_rows": null,
            "grid_column": null,
            "grid_gap": null,
            "grid_row": null,
            "grid_template_areas": null,
            "grid_template_columns": null,
            "grid_template_rows": null,
            "height": null,
            "justify_content": null,
            "justify_items": null,
            "left": null,
            "margin": null,
            "max_height": null,
            "max_width": null,
            "min_height": null,
            "min_width": null,
            "object_fit": null,
            "object_position": null,
            "order": null,
            "overflow": null,
            "overflow_x": null,
            "overflow_y": null,
            "padding": null,
            "right": null,
            "top": null,
            "visibility": null,
            "width": null
          }
        },
        "33e7edad66754948a602d20503d0a248": {
          "model_module": "@jupyter-widgets/controls",
          "model_name": "DescriptionStyleModel",
          "model_module_version": "1.5.0",
          "state": {
            "_model_module": "@jupyter-widgets/controls",
            "_model_module_version": "1.5.0",
            "_model_name": "DescriptionStyleModel",
            "_view_count": null,
            "_view_module": "@jupyter-widgets/base",
            "_view_module_version": "1.2.0",
            "_view_name": "StyleView",
            "description_width": ""
          }
        },
        "ee2f34cdf3f3402c8af5d5591d5ffa21": {
          "model_module": "@jupyter-widgets/base",
          "model_name": "LayoutModel",
          "model_module_version": "1.2.0",
          "state": {
            "_model_module": "@jupyter-widgets/base",
            "_model_module_version": "1.2.0",
            "_model_name": "LayoutModel",
            "_view_count": null,
            "_view_module": "@jupyter-widgets/base",
            "_view_module_version": "1.2.0",
            "_view_name": "LayoutView",
            "align_content": null,
            "align_items": null,
            "align_self": null,
            "border": null,
            "bottom": null,
            "display": null,
            "flex": null,
            "flex_flow": null,
            "grid_area": null,
            "grid_auto_columns": null,
            "grid_auto_flow": null,
            "grid_auto_rows": null,
            "grid_column": null,
            "grid_gap": null,
            "grid_row": null,
            "grid_template_areas": null,
            "grid_template_columns": null,
            "grid_template_rows": null,
            "height": null,
            "justify_content": null,
            "justify_items": null,
            "left": null,
            "margin": null,
            "max_height": null,
            "max_width": null,
            "min_height": null,
            "min_width": null,
            "object_fit": null,
            "object_position": null,
            "order": null,
            "overflow": null,
            "overflow_x": null,
            "overflow_y": null,
            "padding": null,
            "right": null,
            "top": null,
            "visibility": null,
            "width": null
          }
        },
        "7f5d71f0e4464e26b387f659d42380d1": {
          "model_module": "@jupyter-widgets/controls",
          "model_name": "ProgressStyleModel",
          "model_module_version": "1.5.0",
          "state": {
            "_model_module": "@jupyter-widgets/controls",
            "_model_module_version": "1.5.0",
            "_model_name": "ProgressStyleModel",
            "_view_count": null,
            "_view_module": "@jupyter-widgets/base",
            "_view_module_version": "1.2.0",
            "_view_name": "StyleView",
            "bar_color": null,
            "description_width": ""
          }
        },
        "a6f15433e0344d7ebdab37c8b2522747": {
          "model_module": "@jupyter-widgets/base",
          "model_name": "LayoutModel",
          "model_module_version": "1.2.0",
          "state": {
            "_model_module": "@jupyter-widgets/base",
            "_model_module_version": "1.2.0",
            "_model_name": "LayoutModel",
            "_view_count": null,
            "_view_module": "@jupyter-widgets/base",
            "_view_module_version": "1.2.0",
            "_view_name": "LayoutView",
            "align_content": null,
            "align_items": null,
            "align_self": null,
            "border": null,
            "bottom": null,
            "display": null,
            "flex": null,
            "flex_flow": null,
            "grid_area": null,
            "grid_auto_columns": null,
            "grid_auto_flow": null,
            "grid_auto_rows": null,
            "grid_column": null,
            "grid_gap": null,
            "grid_row": null,
            "grid_template_areas": null,
            "grid_template_columns": null,
            "grid_template_rows": null,
            "height": null,
            "justify_content": null,
            "justify_items": null,
            "left": null,
            "margin": null,
            "max_height": null,
            "max_width": null,
            "min_height": null,
            "min_width": null,
            "object_fit": null,
            "object_position": null,
            "order": null,
            "overflow": null,
            "overflow_x": null,
            "overflow_y": null,
            "padding": null,
            "right": null,
            "top": null,
            "visibility": null,
            "width": null
          }
        },
        "bfc8eddfe2c44d879542366dd96683e1": {
          "model_module": "@jupyter-widgets/controls",
          "model_name": "DescriptionStyleModel",
          "model_module_version": "1.5.0",
          "state": {
            "_model_module": "@jupyter-widgets/controls",
            "_model_module_version": "1.5.0",
            "_model_name": "DescriptionStyleModel",
            "_view_count": null,
            "_view_module": "@jupyter-widgets/base",
            "_view_module_version": "1.2.0",
            "_view_name": "StyleView",
            "description_width": ""
          }
        },
        "e323eb5f7b714a92b7cc4881e8af91d9": {
          "model_module": "@jupyter-widgets/controls",
          "model_name": "HBoxModel",
          "model_module_version": "1.5.0",
          "state": {
            "_dom_classes": [],
            "_model_module": "@jupyter-widgets/controls",
            "_model_module_version": "1.5.0",
            "_model_name": "HBoxModel",
            "_view_count": null,
            "_view_module": "@jupyter-widgets/controls",
            "_view_module_version": "1.5.0",
            "_view_name": "HBoxView",
            "box_style": "",
            "children": [
              "IPY_MODEL_f9f5b72ad8da425095c621c5bc9ea583",
              "IPY_MODEL_2882f2de8e054b22800df20a8bb515a2",
              "IPY_MODEL_6c5a7c32168c4c0b8b2f306053696664"
            ],
            "layout": "IPY_MODEL_baf08c7bd9714a8a8a937014aed0c6a5"
          }
        },
        "f9f5b72ad8da425095c621c5bc9ea583": {
          "model_module": "@jupyter-widgets/controls",
          "model_name": "HTMLModel",
          "model_module_version": "1.5.0",
          "state": {
            "_dom_classes": [],
            "_model_module": "@jupyter-widgets/controls",
            "_model_module_version": "1.5.0",
            "_model_name": "HTMLModel",
            "_view_count": null,
            "_view_module": "@jupyter-widgets/controls",
            "_view_module_version": "1.5.0",
            "_view_name": "HTMLView",
            "description": "",
            "description_tooltip": null,
            "layout": "IPY_MODEL_bd263531303749f981ead3095681c3d1",
            "placeholder": "​",
            "style": "IPY_MODEL_a3c24f2a53404084bf3366f9cb560ad2",
            "value": "tokenizer_config.json: 100%"
          }
        },
        "2882f2de8e054b22800df20a8bb515a2": {
          "model_module": "@jupyter-widgets/controls",
          "model_name": "FloatProgressModel",
          "model_module_version": "1.5.0",
          "state": {
            "_dom_classes": [],
            "_model_module": "@jupyter-widgets/controls",
            "_model_module_version": "1.5.0",
            "_model_name": "FloatProgressModel",
            "_view_count": null,
            "_view_module": "@jupyter-widgets/controls",
            "_view_module_version": "1.5.0",
            "_view_name": "ProgressView",
            "bar_style": "success",
            "description": "",
            "description_tooltip": null,
            "layout": "IPY_MODEL_40e003d5d8d047a293b53080b2066d97",
            "max": 25,
            "min": 0,
            "orientation": "horizontal",
            "style": "IPY_MODEL_e3789101fb7747458687df7d0c88e7e6",
            "value": 25
          }
        },
        "6c5a7c32168c4c0b8b2f306053696664": {
          "model_module": "@jupyter-widgets/controls",
          "model_name": "HTMLModel",
          "model_module_version": "1.5.0",
          "state": {
            "_dom_classes": [],
            "_model_module": "@jupyter-widgets/controls",
            "_model_module_version": "1.5.0",
            "_model_name": "HTMLModel",
            "_view_count": null,
            "_view_module": "@jupyter-widgets/controls",
            "_view_module_version": "1.5.0",
            "_view_name": "HTMLView",
            "description": "",
            "description_tooltip": null,
            "layout": "IPY_MODEL_7630dba6406047289f69b6d29b88975d",
            "placeholder": "​",
            "style": "IPY_MODEL_6c182081931d4594bbd559889940cd7f",
            "value": " 25.0/25.0 [00:00&lt;00:00, 1.59kB/s]"
          }
        },
        "baf08c7bd9714a8a8a937014aed0c6a5": {
          "model_module": "@jupyter-widgets/base",
          "model_name": "LayoutModel",
          "model_module_version": "1.2.0",
          "state": {
            "_model_module": "@jupyter-widgets/base",
            "_model_module_version": "1.2.0",
            "_model_name": "LayoutModel",
            "_view_count": null,
            "_view_module": "@jupyter-widgets/base",
            "_view_module_version": "1.2.0",
            "_view_name": "LayoutView",
            "align_content": null,
            "align_items": null,
            "align_self": null,
            "border": null,
            "bottom": null,
            "display": null,
            "flex": null,
            "flex_flow": null,
            "grid_area": null,
            "grid_auto_columns": null,
            "grid_auto_flow": null,
            "grid_auto_rows": null,
            "grid_column": null,
            "grid_gap": null,
            "grid_row": null,
            "grid_template_areas": null,
            "grid_template_columns": null,
            "grid_template_rows": null,
            "height": null,
            "justify_content": null,
            "justify_items": null,
            "left": null,
            "margin": null,
            "max_height": null,
            "max_width": null,
            "min_height": null,
            "min_width": null,
            "object_fit": null,
            "object_position": null,
            "order": null,
            "overflow": null,
            "overflow_x": null,
            "overflow_y": null,
            "padding": null,
            "right": null,
            "top": null,
            "visibility": null,
            "width": null
          }
        },
        "bd263531303749f981ead3095681c3d1": {
          "model_module": "@jupyter-widgets/base",
          "model_name": "LayoutModel",
          "model_module_version": "1.2.0",
          "state": {
            "_model_module": "@jupyter-widgets/base",
            "_model_module_version": "1.2.0",
            "_model_name": "LayoutModel",
            "_view_count": null,
            "_view_module": "@jupyter-widgets/base",
            "_view_module_version": "1.2.0",
            "_view_name": "LayoutView",
            "align_content": null,
            "align_items": null,
            "align_self": null,
            "border": null,
            "bottom": null,
            "display": null,
            "flex": null,
            "flex_flow": null,
            "grid_area": null,
            "grid_auto_columns": null,
            "grid_auto_flow": null,
            "grid_auto_rows": null,
            "grid_column": null,
            "grid_gap": null,
            "grid_row": null,
            "grid_template_areas": null,
            "grid_template_columns": null,
            "grid_template_rows": null,
            "height": null,
            "justify_content": null,
            "justify_items": null,
            "left": null,
            "margin": null,
            "max_height": null,
            "max_width": null,
            "min_height": null,
            "min_width": null,
            "object_fit": null,
            "object_position": null,
            "order": null,
            "overflow": null,
            "overflow_x": null,
            "overflow_y": null,
            "padding": null,
            "right": null,
            "top": null,
            "visibility": null,
            "width": null
          }
        },
        "a3c24f2a53404084bf3366f9cb560ad2": {
          "model_module": "@jupyter-widgets/controls",
          "model_name": "DescriptionStyleModel",
          "model_module_version": "1.5.0",
          "state": {
            "_model_module": "@jupyter-widgets/controls",
            "_model_module_version": "1.5.0",
            "_model_name": "DescriptionStyleModel",
            "_view_count": null,
            "_view_module": "@jupyter-widgets/base",
            "_view_module_version": "1.2.0",
            "_view_name": "StyleView",
            "description_width": ""
          }
        },
        "40e003d5d8d047a293b53080b2066d97": {
          "model_module": "@jupyter-widgets/base",
          "model_name": "LayoutModel",
          "model_module_version": "1.2.0",
          "state": {
            "_model_module": "@jupyter-widgets/base",
            "_model_module_version": "1.2.0",
            "_model_name": "LayoutModel",
            "_view_count": null,
            "_view_module": "@jupyter-widgets/base",
            "_view_module_version": "1.2.0",
            "_view_name": "LayoutView",
            "align_content": null,
            "align_items": null,
            "align_self": null,
            "border": null,
            "bottom": null,
            "display": null,
            "flex": null,
            "flex_flow": null,
            "grid_area": null,
            "grid_auto_columns": null,
            "grid_auto_flow": null,
            "grid_auto_rows": null,
            "grid_column": null,
            "grid_gap": null,
            "grid_row": null,
            "grid_template_areas": null,
            "grid_template_columns": null,
            "grid_template_rows": null,
            "height": null,
            "justify_content": null,
            "justify_items": null,
            "left": null,
            "margin": null,
            "max_height": null,
            "max_width": null,
            "min_height": null,
            "min_width": null,
            "object_fit": null,
            "object_position": null,
            "order": null,
            "overflow": null,
            "overflow_x": null,
            "overflow_y": null,
            "padding": null,
            "right": null,
            "top": null,
            "visibility": null,
            "width": null
          }
        },
        "e3789101fb7747458687df7d0c88e7e6": {
          "model_module": "@jupyter-widgets/controls",
          "model_name": "ProgressStyleModel",
          "model_module_version": "1.5.0",
          "state": {
            "_model_module": "@jupyter-widgets/controls",
            "_model_module_version": "1.5.0",
            "_model_name": "ProgressStyleModel",
            "_view_count": null,
            "_view_module": "@jupyter-widgets/base",
            "_view_module_version": "1.2.0",
            "_view_name": "StyleView",
            "bar_color": null,
            "description_width": ""
          }
        },
        "7630dba6406047289f69b6d29b88975d": {
          "model_module": "@jupyter-widgets/base",
          "model_name": "LayoutModel",
          "model_module_version": "1.2.0",
          "state": {
            "_model_module": "@jupyter-widgets/base",
            "_model_module_version": "1.2.0",
            "_model_name": "LayoutModel",
            "_view_count": null,
            "_view_module": "@jupyter-widgets/base",
            "_view_module_version": "1.2.0",
            "_view_name": "LayoutView",
            "align_content": null,
            "align_items": null,
            "align_self": null,
            "border": null,
            "bottom": null,
            "display": null,
            "flex": null,
            "flex_flow": null,
            "grid_area": null,
            "grid_auto_columns": null,
            "grid_auto_flow": null,
            "grid_auto_rows": null,
            "grid_column": null,
            "grid_gap": null,
            "grid_row": null,
            "grid_template_areas": null,
            "grid_template_columns": null,
            "grid_template_rows": null,
            "height": null,
            "justify_content": null,
            "justify_items": null,
            "left": null,
            "margin": null,
            "max_height": null,
            "max_width": null,
            "min_height": null,
            "min_width": null,
            "object_fit": null,
            "object_position": null,
            "order": null,
            "overflow": null,
            "overflow_x": null,
            "overflow_y": null,
            "padding": null,
            "right": null,
            "top": null,
            "visibility": null,
            "width": null
          }
        },
        "6c182081931d4594bbd559889940cd7f": {
          "model_module": "@jupyter-widgets/controls",
          "model_name": "DescriptionStyleModel",
          "model_module_version": "1.5.0",
          "state": {
            "_model_module": "@jupyter-widgets/controls",
            "_model_module_version": "1.5.0",
            "_model_name": "DescriptionStyleModel",
            "_view_count": null,
            "_view_module": "@jupyter-widgets/base",
            "_view_module_version": "1.2.0",
            "_view_name": "StyleView",
            "description_width": ""
          }
        },
        "8d96c771cb1e44948c3c85bf1f45dbde": {
          "model_module": "@jupyter-widgets/controls",
          "model_name": "HBoxModel",
          "model_module_version": "1.5.0",
          "state": {
            "_dom_classes": [],
            "_model_module": "@jupyter-widgets/controls",
            "_model_module_version": "1.5.0",
            "_model_name": "HBoxModel",
            "_view_count": null,
            "_view_module": "@jupyter-widgets/controls",
            "_view_module_version": "1.5.0",
            "_view_name": "HBoxView",
            "box_style": "",
            "children": [
              "IPY_MODEL_c11a9e4d435f46068934b3ce96f0ead7",
              "IPY_MODEL_1aaf710a71e44ad380306bb175321b6d",
              "IPY_MODEL_f33c93f3d44b45f38f05463ea04565a9"
            ],
            "layout": "IPY_MODEL_54574df0c2a545138f2768f4ce4dd3a3"
          }
        },
        "c11a9e4d435f46068934b3ce96f0ead7": {
          "model_module": "@jupyter-widgets/controls",
          "model_name": "HTMLModel",
          "model_module_version": "1.5.0",
          "state": {
            "_dom_classes": [],
            "_model_module": "@jupyter-widgets/controls",
            "_model_module_version": "1.5.0",
            "_model_name": "HTMLModel",
            "_view_count": null,
            "_view_module": "@jupyter-widgets/controls",
            "_view_module_version": "1.5.0",
            "_view_name": "HTMLView",
            "description": "",
            "description_tooltip": null,
            "layout": "IPY_MODEL_4a48d3cf1fd7425c9d2367786d60e477",
            "placeholder": "​",
            "style": "IPY_MODEL_02f64f872dcc4cb58fdd1d676ba6086f",
            "value": "vocab.json: 100%"
          }
        },
        "1aaf710a71e44ad380306bb175321b6d": {
          "model_module": "@jupyter-widgets/controls",
          "model_name": "FloatProgressModel",
          "model_module_version": "1.5.0",
          "state": {
            "_dom_classes": [],
            "_model_module": "@jupyter-widgets/controls",
            "_model_module_version": "1.5.0",
            "_model_name": "FloatProgressModel",
            "_view_count": null,
            "_view_module": "@jupyter-widgets/controls",
            "_view_module_version": "1.5.0",
            "_view_name": "ProgressView",
            "bar_style": "success",
            "description": "",
            "description_tooltip": null,
            "layout": "IPY_MODEL_f8b6a03cf43e41178a06c46430879d99",
            "max": 898822,
            "min": 0,
            "orientation": "horizontal",
            "style": "IPY_MODEL_3bf295e1040e42bbb32796be47d3245f",
            "value": 898822
          }
        },
        "f33c93f3d44b45f38f05463ea04565a9": {
          "model_module": "@jupyter-widgets/controls",
          "model_name": "HTMLModel",
          "model_module_version": "1.5.0",
          "state": {
            "_dom_classes": [],
            "_model_module": "@jupyter-widgets/controls",
            "_model_module_version": "1.5.0",
            "_model_name": "HTMLModel",
            "_view_count": null,
            "_view_module": "@jupyter-widgets/controls",
            "_view_module_version": "1.5.0",
            "_view_name": "HTMLView",
            "description": "",
            "description_tooltip": null,
            "layout": "IPY_MODEL_b49893726ce54846a690af362a20a3c2",
            "placeholder": "​",
            "style": "IPY_MODEL_53a15f30202847019993fe2bb897a250",
            "value": " 899k/899k [00:00&lt;00:00, 3.83MB/s]"
          }
        },
        "54574df0c2a545138f2768f4ce4dd3a3": {
          "model_module": "@jupyter-widgets/base",
          "model_name": "LayoutModel",
          "model_module_version": "1.2.0",
          "state": {
            "_model_module": "@jupyter-widgets/base",
            "_model_module_version": "1.2.0",
            "_model_name": "LayoutModel",
            "_view_count": null,
            "_view_module": "@jupyter-widgets/base",
            "_view_module_version": "1.2.0",
            "_view_name": "LayoutView",
            "align_content": null,
            "align_items": null,
            "align_self": null,
            "border": null,
            "bottom": null,
            "display": null,
            "flex": null,
            "flex_flow": null,
            "grid_area": null,
            "grid_auto_columns": null,
            "grid_auto_flow": null,
            "grid_auto_rows": null,
            "grid_column": null,
            "grid_gap": null,
            "grid_row": null,
            "grid_template_areas": null,
            "grid_template_columns": null,
            "grid_template_rows": null,
            "height": null,
            "justify_content": null,
            "justify_items": null,
            "left": null,
            "margin": null,
            "max_height": null,
            "max_width": null,
            "min_height": null,
            "min_width": null,
            "object_fit": null,
            "object_position": null,
            "order": null,
            "overflow": null,
            "overflow_x": null,
            "overflow_y": null,
            "padding": null,
            "right": null,
            "top": null,
            "visibility": null,
            "width": null
          }
        },
        "4a48d3cf1fd7425c9d2367786d60e477": {
          "model_module": "@jupyter-widgets/base",
          "model_name": "LayoutModel",
          "model_module_version": "1.2.0",
          "state": {
            "_model_module": "@jupyter-widgets/base",
            "_model_module_version": "1.2.0",
            "_model_name": "LayoutModel",
            "_view_count": null,
            "_view_module": "@jupyter-widgets/base",
            "_view_module_version": "1.2.0",
            "_view_name": "LayoutView",
            "align_content": null,
            "align_items": null,
            "align_self": null,
            "border": null,
            "bottom": null,
            "display": null,
            "flex": null,
            "flex_flow": null,
            "grid_area": null,
            "grid_auto_columns": null,
            "grid_auto_flow": null,
            "grid_auto_rows": null,
            "grid_column": null,
            "grid_gap": null,
            "grid_row": null,
            "grid_template_areas": null,
            "grid_template_columns": null,
            "grid_template_rows": null,
            "height": null,
            "justify_content": null,
            "justify_items": null,
            "left": null,
            "margin": null,
            "max_height": null,
            "max_width": null,
            "min_height": null,
            "min_width": null,
            "object_fit": null,
            "object_position": null,
            "order": null,
            "overflow": null,
            "overflow_x": null,
            "overflow_y": null,
            "padding": null,
            "right": null,
            "top": null,
            "visibility": null,
            "width": null
          }
        },
        "02f64f872dcc4cb58fdd1d676ba6086f": {
          "model_module": "@jupyter-widgets/controls",
          "model_name": "DescriptionStyleModel",
          "model_module_version": "1.5.0",
          "state": {
            "_model_module": "@jupyter-widgets/controls",
            "_model_module_version": "1.5.0",
            "_model_name": "DescriptionStyleModel",
            "_view_count": null,
            "_view_module": "@jupyter-widgets/base",
            "_view_module_version": "1.2.0",
            "_view_name": "StyleView",
            "description_width": ""
          }
        },
        "f8b6a03cf43e41178a06c46430879d99": {
          "model_module": "@jupyter-widgets/base",
          "model_name": "LayoutModel",
          "model_module_version": "1.2.0",
          "state": {
            "_model_module": "@jupyter-widgets/base",
            "_model_module_version": "1.2.0",
            "_model_name": "LayoutModel",
            "_view_count": null,
            "_view_module": "@jupyter-widgets/base",
            "_view_module_version": "1.2.0",
            "_view_name": "LayoutView",
            "align_content": null,
            "align_items": null,
            "align_self": null,
            "border": null,
            "bottom": null,
            "display": null,
            "flex": null,
            "flex_flow": null,
            "grid_area": null,
            "grid_auto_columns": null,
            "grid_auto_flow": null,
            "grid_auto_rows": null,
            "grid_column": null,
            "grid_gap": null,
            "grid_row": null,
            "grid_template_areas": null,
            "grid_template_columns": null,
            "grid_template_rows": null,
            "height": null,
            "justify_content": null,
            "justify_items": null,
            "left": null,
            "margin": null,
            "max_height": null,
            "max_width": null,
            "min_height": null,
            "min_width": null,
            "object_fit": null,
            "object_position": null,
            "order": null,
            "overflow": null,
            "overflow_x": null,
            "overflow_y": null,
            "padding": null,
            "right": null,
            "top": null,
            "visibility": null,
            "width": null
          }
        },
        "3bf295e1040e42bbb32796be47d3245f": {
          "model_module": "@jupyter-widgets/controls",
          "model_name": "ProgressStyleModel",
          "model_module_version": "1.5.0",
          "state": {
            "_model_module": "@jupyter-widgets/controls",
            "_model_module_version": "1.5.0",
            "_model_name": "ProgressStyleModel",
            "_view_count": null,
            "_view_module": "@jupyter-widgets/base",
            "_view_module_version": "1.2.0",
            "_view_name": "StyleView",
            "bar_color": null,
            "description_width": ""
          }
        },
        "b49893726ce54846a690af362a20a3c2": {
          "model_module": "@jupyter-widgets/base",
          "model_name": "LayoutModel",
          "model_module_version": "1.2.0",
          "state": {
            "_model_module": "@jupyter-widgets/base",
            "_model_module_version": "1.2.0",
            "_model_name": "LayoutModel",
            "_view_count": null,
            "_view_module": "@jupyter-widgets/base",
            "_view_module_version": "1.2.0",
            "_view_name": "LayoutView",
            "align_content": null,
            "align_items": null,
            "align_self": null,
            "border": null,
            "bottom": null,
            "display": null,
            "flex": null,
            "flex_flow": null,
            "grid_area": null,
            "grid_auto_columns": null,
            "grid_auto_flow": null,
            "grid_auto_rows": null,
            "grid_column": null,
            "grid_gap": null,
            "grid_row": null,
            "grid_template_areas": null,
            "grid_template_columns": null,
            "grid_template_rows": null,
            "height": null,
            "justify_content": null,
            "justify_items": null,
            "left": null,
            "margin": null,
            "max_height": null,
            "max_width": null,
            "min_height": null,
            "min_width": null,
            "object_fit": null,
            "object_position": null,
            "order": null,
            "overflow": null,
            "overflow_x": null,
            "overflow_y": null,
            "padding": null,
            "right": null,
            "top": null,
            "visibility": null,
            "width": null
          }
        },
        "53a15f30202847019993fe2bb897a250": {
          "model_module": "@jupyter-widgets/controls",
          "model_name": "DescriptionStyleModel",
          "model_module_version": "1.5.0",
          "state": {
            "_model_module": "@jupyter-widgets/controls",
            "_model_module_version": "1.5.0",
            "_model_name": "DescriptionStyleModel",
            "_view_count": null,
            "_view_module": "@jupyter-widgets/base",
            "_view_module_version": "1.2.0",
            "_view_name": "StyleView",
            "description_width": ""
          }
        },
        "7ed8003b4e344cdcb7dd4aa189c90f90": {
          "model_module": "@jupyter-widgets/controls",
          "model_name": "HBoxModel",
          "model_module_version": "1.5.0",
          "state": {
            "_dom_classes": [],
            "_model_module": "@jupyter-widgets/controls",
            "_model_module_version": "1.5.0",
            "_model_name": "HBoxModel",
            "_view_count": null,
            "_view_module": "@jupyter-widgets/controls",
            "_view_module_version": "1.5.0",
            "_view_name": "HBoxView",
            "box_style": "",
            "children": [
              "IPY_MODEL_00876605ce1a4be8a6bc7fd762bc4449",
              "IPY_MODEL_3b0ab98fd0b94b7e9cc142018258907c",
              "IPY_MODEL_18bd37ec6a144465bfce6b19168e50a5"
            ],
            "layout": "IPY_MODEL_a2c32d4c0a224fe1b87d5dfb4fcccd01"
          }
        },
        "00876605ce1a4be8a6bc7fd762bc4449": {
          "model_module": "@jupyter-widgets/controls",
          "model_name": "HTMLModel",
          "model_module_version": "1.5.0",
          "state": {
            "_dom_classes": [],
            "_model_module": "@jupyter-widgets/controls",
            "_model_module_version": "1.5.0",
            "_model_name": "HTMLModel",
            "_view_count": null,
            "_view_module": "@jupyter-widgets/controls",
            "_view_module_version": "1.5.0",
            "_view_name": "HTMLView",
            "description": "",
            "description_tooltip": null,
            "layout": "IPY_MODEL_ea30c5f7c5d64cd483db231b5dc4f78d",
            "placeholder": "​",
            "style": "IPY_MODEL_61f41c2831a6429e9c442aaa06945a67",
            "value": "merges.txt: 100%"
          }
        },
        "3b0ab98fd0b94b7e9cc142018258907c": {
          "model_module": "@jupyter-widgets/controls",
          "model_name": "FloatProgressModel",
          "model_module_version": "1.5.0",
          "state": {
            "_dom_classes": [],
            "_model_module": "@jupyter-widgets/controls",
            "_model_module_version": "1.5.0",
            "_model_name": "FloatProgressModel",
            "_view_count": null,
            "_view_module": "@jupyter-widgets/controls",
            "_view_module_version": "1.5.0",
            "_view_name": "ProgressView",
            "bar_style": "success",
            "description": "",
            "description_tooltip": null,
            "layout": "IPY_MODEL_7e4d9f958a4e4637b8f9bb0576e0d103",
            "max": 456318,
            "min": 0,
            "orientation": "horizontal",
            "style": "IPY_MODEL_72a5b12d16704244ba6ddcae36ded15f",
            "value": 456318
          }
        },
        "18bd37ec6a144465bfce6b19168e50a5": {
          "model_module": "@jupyter-widgets/controls",
          "model_name": "HTMLModel",
          "model_module_version": "1.5.0",
          "state": {
            "_dom_classes": [],
            "_model_module": "@jupyter-widgets/controls",
            "_model_module_version": "1.5.0",
            "_model_name": "HTMLModel",
            "_view_count": null,
            "_view_module": "@jupyter-widgets/controls",
            "_view_module_version": "1.5.0",
            "_view_name": "HTMLView",
            "description": "",
            "description_tooltip": null,
            "layout": "IPY_MODEL_8a63d7f01f324e00b7f803b41722e024",
            "placeholder": "​",
            "style": "IPY_MODEL_95bc2323597a46abaf8264b106f649c3",
            "value": " 456k/456k [00:00&lt;00:00, 1.98MB/s]"
          }
        },
        "a2c32d4c0a224fe1b87d5dfb4fcccd01": {
          "model_module": "@jupyter-widgets/base",
          "model_name": "LayoutModel",
          "model_module_version": "1.2.0",
          "state": {
            "_model_module": "@jupyter-widgets/base",
            "_model_module_version": "1.2.0",
            "_model_name": "LayoutModel",
            "_view_count": null,
            "_view_module": "@jupyter-widgets/base",
            "_view_module_version": "1.2.0",
            "_view_name": "LayoutView",
            "align_content": null,
            "align_items": null,
            "align_self": null,
            "border": null,
            "bottom": null,
            "display": null,
            "flex": null,
            "flex_flow": null,
            "grid_area": null,
            "grid_auto_columns": null,
            "grid_auto_flow": null,
            "grid_auto_rows": null,
            "grid_column": null,
            "grid_gap": null,
            "grid_row": null,
            "grid_template_areas": null,
            "grid_template_columns": null,
            "grid_template_rows": null,
            "height": null,
            "justify_content": null,
            "justify_items": null,
            "left": null,
            "margin": null,
            "max_height": null,
            "max_width": null,
            "min_height": null,
            "min_width": null,
            "object_fit": null,
            "object_position": null,
            "order": null,
            "overflow": null,
            "overflow_x": null,
            "overflow_y": null,
            "padding": null,
            "right": null,
            "top": null,
            "visibility": null,
            "width": null
          }
        },
        "ea30c5f7c5d64cd483db231b5dc4f78d": {
          "model_module": "@jupyter-widgets/base",
          "model_name": "LayoutModel",
          "model_module_version": "1.2.0",
          "state": {
            "_model_module": "@jupyter-widgets/base",
            "_model_module_version": "1.2.0",
            "_model_name": "LayoutModel",
            "_view_count": null,
            "_view_module": "@jupyter-widgets/base",
            "_view_module_version": "1.2.0",
            "_view_name": "LayoutView",
            "align_content": null,
            "align_items": null,
            "align_self": null,
            "border": null,
            "bottom": null,
            "display": null,
            "flex": null,
            "flex_flow": null,
            "grid_area": null,
            "grid_auto_columns": null,
            "grid_auto_flow": null,
            "grid_auto_rows": null,
            "grid_column": null,
            "grid_gap": null,
            "grid_row": null,
            "grid_template_areas": null,
            "grid_template_columns": null,
            "grid_template_rows": null,
            "height": null,
            "justify_content": null,
            "justify_items": null,
            "left": null,
            "margin": null,
            "max_height": null,
            "max_width": null,
            "min_height": null,
            "min_width": null,
            "object_fit": null,
            "object_position": null,
            "order": null,
            "overflow": null,
            "overflow_x": null,
            "overflow_y": null,
            "padding": null,
            "right": null,
            "top": null,
            "visibility": null,
            "width": null
          }
        },
        "61f41c2831a6429e9c442aaa06945a67": {
          "model_module": "@jupyter-widgets/controls",
          "model_name": "DescriptionStyleModel",
          "model_module_version": "1.5.0",
          "state": {
            "_model_module": "@jupyter-widgets/controls",
            "_model_module_version": "1.5.0",
            "_model_name": "DescriptionStyleModel",
            "_view_count": null,
            "_view_module": "@jupyter-widgets/base",
            "_view_module_version": "1.2.0",
            "_view_name": "StyleView",
            "description_width": ""
          }
        },
        "7e4d9f958a4e4637b8f9bb0576e0d103": {
          "model_module": "@jupyter-widgets/base",
          "model_name": "LayoutModel",
          "model_module_version": "1.2.0",
          "state": {
            "_model_module": "@jupyter-widgets/base",
            "_model_module_version": "1.2.0",
            "_model_name": "LayoutModel",
            "_view_count": null,
            "_view_module": "@jupyter-widgets/base",
            "_view_module_version": "1.2.0",
            "_view_name": "LayoutView",
            "align_content": null,
            "align_items": null,
            "align_self": null,
            "border": null,
            "bottom": null,
            "display": null,
            "flex": null,
            "flex_flow": null,
            "grid_area": null,
            "grid_auto_columns": null,
            "grid_auto_flow": null,
            "grid_auto_rows": null,
            "grid_column": null,
            "grid_gap": null,
            "grid_row": null,
            "grid_template_areas": null,
            "grid_template_columns": null,
            "grid_template_rows": null,
            "height": null,
            "justify_content": null,
            "justify_items": null,
            "left": null,
            "margin": null,
            "max_height": null,
            "max_width": null,
            "min_height": null,
            "min_width": null,
            "object_fit": null,
            "object_position": null,
            "order": null,
            "overflow": null,
            "overflow_x": null,
            "overflow_y": null,
            "padding": null,
            "right": null,
            "top": null,
            "visibility": null,
            "width": null
          }
        },
        "72a5b12d16704244ba6ddcae36ded15f": {
          "model_module": "@jupyter-widgets/controls",
          "model_name": "ProgressStyleModel",
          "model_module_version": "1.5.0",
          "state": {
            "_model_module": "@jupyter-widgets/controls",
            "_model_module_version": "1.5.0",
            "_model_name": "ProgressStyleModel",
            "_view_count": null,
            "_view_module": "@jupyter-widgets/base",
            "_view_module_version": "1.2.0",
            "_view_name": "StyleView",
            "bar_color": null,
            "description_width": ""
          }
        },
        "8a63d7f01f324e00b7f803b41722e024": {
          "model_module": "@jupyter-widgets/base",
          "model_name": "LayoutModel",
          "model_module_version": "1.2.0",
          "state": {
            "_model_module": "@jupyter-widgets/base",
            "_model_module_version": "1.2.0",
            "_model_name": "LayoutModel",
            "_view_count": null,
            "_view_module": "@jupyter-widgets/base",
            "_view_module_version": "1.2.0",
            "_view_name": "LayoutView",
            "align_content": null,
            "align_items": null,
            "align_self": null,
            "border": null,
            "bottom": null,
            "display": null,
            "flex": null,
            "flex_flow": null,
            "grid_area": null,
            "grid_auto_columns": null,
            "grid_auto_flow": null,
            "grid_auto_rows": null,
            "grid_column": null,
            "grid_gap": null,
            "grid_row": null,
            "grid_template_areas": null,
            "grid_template_columns": null,
            "grid_template_rows": null,
            "height": null,
            "justify_content": null,
            "justify_items": null,
            "left": null,
            "margin": null,
            "max_height": null,
            "max_width": null,
            "min_height": null,
            "min_width": null,
            "object_fit": null,
            "object_position": null,
            "order": null,
            "overflow": null,
            "overflow_x": null,
            "overflow_y": null,
            "padding": null,
            "right": null,
            "top": null,
            "visibility": null,
            "width": null
          }
        },
        "95bc2323597a46abaf8264b106f649c3": {
          "model_module": "@jupyter-widgets/controls",
          "model_name": "DescriptionStyleModel",
          "model_module_version": "1.5.0",
          "state": {
            "_model_module": "@jupyter-widgets/controls",
            "_model_module_version": "1.5.0",
            "_model_name": "DescriptionStyleModel",
            "_view_count": null,
            "_view_module": "@jupyter-widgets/base",
            "_view_module_version": "1.2.0",
            "_view_name": "StyleView",
            "description_width": ""
          }
        },
        "7fd46002b02f4f279b65f2b813a3eec9": {
          "model_module": "@jupyter-widgets/controls",
          "model_name": "HBoxModel",
          "model_module_version": "1.5.0",
          "state": {
            "_dom_classes": [],
            "_model_module": "@jupyter-widgets/controls",
            "_model_module_version": "1.5.0",
            "_model_name": "HBoxModel",
            "_view_count": null,
            "_view_module": "@jupyter-widgets/controls",
            "_view_module_version": "1.5.0",
            "_view_name": "HBoxView",
            "box_style": "",
            "children": [
              "IPY_MODEL_4ca0474f19004e6fb2540888549f299b",
              "IPY_MODEL_40f1d83720a04d10bfe0d8efc932d1c6",
              "IPY_MODEL_dca0c5a49e024bc993fe03c5a9236d08"
            ],
            "layout": "IPY_MODEL_b570d5c9d0604aa09211a4730e9da9a2"
          }
        },
        "4ca0474f19004e6fb2540888549f299b": {
          "model_module": "@jupyter-widgets/controls",
          "model_name": "HTMLModel",
          "model_module_version": "1.5.0",
          "state": {
            "_dom_classes": [],
            "_model_module": "@jupyter-widgets/controls",
            "_model_module_version": "1.5.0",
            "_model_name": "HTMLModel",
            "_view_count": null,
            "_view_module": "@jupyter-widgets/controls",
            "_view_module_version": "1.5.0",
            "_view_name": "HTMLView",
            "description": "",
            "description_tooltip": null,
            "layout": "IPY_MODEL_06a53899fc464abebd7700bd7d0b1cd8",
            "placeholder": "​",
            "style": "IPY_MODEL_de516871d7b04875be8bc270546d52b5",
            "value": "special_tokens_map.json: 100%"
          }
        },
        "40f1d83720a04d10bfe0d8efc932d1c6": {
          "model_module": "@jupyter-widgets/controls",
          "model_name": "FloatProgressModel",
          "model_module_version": "1.5.0",
          "state": {
            "_dom_classes": [],
            "_model_module": "@jupyter-widgets/controls",
            "_model_module_version": "1.5.0",
            "_model_name": "FloatProgressModel",
            "_view_count": null,
            "_view_module": "@jupyter-widgets/controls",
            "_view_module_version": "1.5.0",
            "_view_name": "ProgressView",
            "bar_style": "success",
            "description": "",
            "description_tooltip": null,
            "layout": "IPY_MODEL_92309c28356d4b55b17696740009ac17",
            "max": 150,
            "min": 0,
            "orientation": "horizontal",
            "style": "IPY_MODEL_6c3cdb35e6224bbaaf8e0ff4ad705146",
            "value": 150
          }
        },
        "dca0c5a49e024bc993fe03c5a9236d08": {
          "model_module": "@jupyter-widgets/controls",
          "model_name": "HTMLModel",
          "model_module_version": "1.5.0",
          "state": {
            "_dom_classes": [],
            "_model_module": "@jupyter-widgets/controls",
            "_model_module_version": "1.5.0",
            "_model_name": "HTMLModel",
            "_view_count": null,
            "_view_module": "@jupyter-widgets/controls",
            "_view_module_version": "1.5.0",
            "_view_name": "HTMLView",
            "description": "",
            "description_tooltip": null,
            "layout": "IPY_MODEL_13a0b3e48224459fbe61407fa0a67432",
            "placeholder": "​",
            "style": "IPY_MODEL_131dae0098e1478a99a11b843c40f2fa",
            "value": " 150/150 [00:00&lt;00:00, 10.8kB/s]"
          }
        },
        "b570d5c9d0604aa09211a4730e9da9a2": {
          "model_module": "@jupyter-widgets/base",
          "model_name": "LayoutModel",
          "model_module_version": "1.2.0",
          "state": {
            "_model_module": "@jupyter-widgets/base",
            "_model_module_version": "1.2.0",
            "_model_name": "LayoutModel",
            "_view_count": null,
            "_view_module": "@jupyter-widgets/base",
            "_view_module_version": "1.2.0",
            "_view_name": "LayoutView",
            "align_content": null,
            "align_items": null,
            "align_self": null,
            "border": null,
            "bottom": null,
            "display": null,
            "flex": null,
            "flex_flow": null,
            "grid_area": null,
            "grid_auto_columns": null,
            "grid_auto_flow": null,
            "grid_auto_rows": null,
            "grid_column": null,
            "grid_gap": null,
            "grid_row": null,
            "grid_template_areas": null,
            "grid_template_columns": null,
            "grid_template_rows": null,
            "height": null,
            "justify_content": null,
            "justify_items": null,
            "left": null,
            "margin": null,
            "max_height": null,
            "max_width": null,
            "min_height": null,
            "min_width": null,
            "object_fit": null,
            "object_position": null,
            "order": null,
            "overflow": null,
            "overflow_x": null,
            "overflow_y": null,
            "padding": null,
            "right": null,
            "top": null,
            "visibility": null,
            "width": null
          }
        },
        "06a53899fc464abebd7700bd7d0b1cd8": {
          "model_module": "@jupyter-widgets/base",
          "model_name": "LayoutModel",
          "model_module_version": "1.2.0",
          "state": {
            "_model_module": "@jupyter-widgets/base",
            "_model_module_version": "1.2.0",
            "_model_name": "LayoutModel",
            "_view_count": null,
            "_view_module": "@jupyter-widgets/base",
            "_view_module_version": "1.2.0",
            "_view_name": "LayoutView",
            "align_content": null,
            "align_items": null,
            "align_self": null,
            "border": null,
            "bottom": null,
            "display": null,
            "flex": null,
            "flex_flow": null,
            "grid_area": null,
            "grid_auto_columns": null,
            "grid_auto_flow": null,
            "grid_auto_rows": null,
            "grid_column": null,
            "grid_gap": null,
            "grid_row": null,
            "grid_template_areas": null,
            "grid_template_columns": null,
            "grid_template_rows": null,
            "height": null,
            "justify_content": null,
            "justify_items": null,
            "left": null,
            "margin": null,
            "max_height": null,
            "max_width": null,
            "min_height": null,
            "min_width": null,
            "object_fit": null,
            "object_position": null,
            "order": null,
            "overflow": null,
            "overflow_x": null,
            "overflow_y": null,
            "padding": null,
            "right": null,
            "top": null,
            "visibility": null,
            "width": null
          }
        },
        "de516871d7b04875be8bc270546d52b5": {
          "model_module": "@jupyter-widgets/controls",
          "model_name": "DescriptionStyleModel",
          "model_module_version": "1.5.0",
          "state": {
            "_model_module": "@jupyter-widgets/controls",
            "_model_module_version": "1.5.0",
            "_model_name": "DescriptionStyleModel",
            "_view_count": null,
            "_view_module": "@jupyter-widgets/base",
            "_view_module_version": "1.2.0",
            "_view_name": "StyleView",
            "description_width": ""
          }
        },
        "92309c28356d4b55b17696740009ac17": {
          "model_module": "@jupyter-widgets/base",
          "model_name": "LayoutModel",
          "model_module_version": "1.2.0",
          "state": {
            "_model_module": "@jupyter-widgets/base",
            "_model_module_version": "1.2.0",
            "_model_name": "LayoutModel",
            "_view_count": null,
            "_view_module": "@jupyter-widgets/base",
            "_view_module_version": "1.2.0",
            "_view_name": "LayoutView",
            "align_content": null,
            "align_items": null,
            "align_self": null,
            "border": null,
            "bottom": null,
            "display": null,
            "flex": null,
            "flex_flow": null,
            "grid_area": null,
            "grid_auto_columns": null,
            "grid_auto_flow": null,
            "grid_auto_rows": null,
            "grid_column": null,
            "grid_gap": null,
            "grid_row": null,
            "grid_template_areas": null,
            "grid_template_columns": null,
            "grid_template_rows": null,
            "height": null,
            "justify_content": null,
            "justify_items": null,
            "left": null,
            "margin": null,
            "max_height": null,
            "max_width": null,
            "min_height": null,
            "min_width": null,
            "object_fit": null,
            "object_position": null,
            "order": null,
            "overflow": null,
            "overflow_x": null,
            "overflow_y": null,
            "padding": null,
            "right": null,
            "top": null,
            "visibility": null,
            "width": null
          }
        },
        "6c3cdb35e6224bbaaf8e0ff4ad705146": {
          "model_module": "@jupyter-widgets/controls",
          "model_name": "ProgressStyleModel",
          "model_module_version": "1.5.0",
          "state": {
            "_model_module": "@jupyter-widgets/controls",
            "_model_module_version": "1.5.0",
            "_model_name": "ProgressStyleModel",
            "_view_count": null,
            "_view_module": "@jupyter-widgets/base",
            "_view_module_version": "1.2.0",
            "_view_name": "StyleView",
            "bar_color": null,
            "description_width": ""
          }
        },
        "13a0b3e48224459fbe61407fa0a67432": {
          "model_module": "@jupyter-widgets/base",
          "model_name": "LayoutModel",
          "model_module_version": "1.2.0",
          "state": {
            "_model_module": "@jupyter-widgets/base",
            "_model_module_version": "1.2.0",
            "_model_name": "LayoutModel",
            "_view_count": null,
            "_view_module": "@jupyter-widgets/base",
            "_view_module_version": "1.2.0",
            "_view_name": "LayoutView",
            "align_content": null,
            "align_items": null,
            "align_self": null,
            "border": null,
            "bottom": null,
            "display": null,
            "flex": null,
            "flex_flow": null,
            "grid_area": null,
            "grid_auto_columns": null,
            "grid_auto_flow": null,
            "grid_auto_rows": null,
            "grid_column": null,
            "grid_gap": null,
            "grid_row": null,
            "grid_template_areas": null,
            "grid_template_columns": null,
            "grid_template_rows": null,
            "height": null,
            "justify_content": null,
            "justify_items": null,
            "left": null,
            "margin": null,
            "max_height": null,
            "max_width": null,
            "min_height": null,
            "min_width": null,
            "object_fit": null,
            "object_position": null,
            "order": null,
            "overflow": null,
            "overflow_x": null,
            "overflow_y": null,
            "padding": null,
            "right": null,
            "top": null,
            "visibility": null,
            "width": null
          }
        },
        "131dae0098e1478a99a11b843c40f2fa": {
          "model_module": "@jupyter-widgets/controls",
          "model_name": "DescriptionStyleModel",
          "model_module_version": "1.5.0",
          "state": {
            "_model_module": "@jupyter-widgets/controls",
            "_model_module_version": "1.5.0",
            "_model_name": "DescriptionStyleModel",
            "_view_count": null,
            "_view_module": "@jupyter-widgets/base",
            "_view_module_version": "1.2.0",
            "_view_name": "StyleView",
            "description_width": ""
          }
        }
      }
    }
  },
  "nbformat": 4,
  "nbformat_minor": 5
}